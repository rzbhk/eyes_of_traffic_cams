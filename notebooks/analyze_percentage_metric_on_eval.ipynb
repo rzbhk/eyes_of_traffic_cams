{
 "cells": [
  {
   "cell_type": "code",
   "execution_count": 2,
   "metadata": {
    "ExecuteTime": {
     "end_time": "2019-09-02T18:59:37.965039Z",
     "start_time": "2019-09-02T18:59:37.961018Z"
    }
   },
   "outputs": [],
   "source": [
    "import os\n",
    "from time import time\n",
    "from datetime import datetime"
   ]
  },
  {
   "cell_type": "code",
   "execution_count": 3,
   "metadata": {
    "ExecuteTime": {
     "end_time": "2019-09-02T18:59:40.607627Z",
     "start_time": "2019-09-02T18:59:38.120587Z"
    }
   },
   "outputs": [],
   "source": [
    "import pandas as pd\n",
    "import numpy as np\n",
    "import matplotlib.pyplot as plt"
   ]
  },
  {
   "cell_type": "code",
   "execution_count": 4,
   "metadata": {
    "ExecuteTime": {
     "end_time": "2019-09-02T18:59:40.618579Z",
     "start_time": "2019-09-02T18:59:40.614581Z"
    }
   },
   "outputs": [],
   "source": [
    "os.chdir(r\"../immediate_results\")"
   ]
  },
  {
   "cell_type": "code",
   "execution_count": 5,
   "metadata": {
    "ExecuteTime": {
     "end_time": "2019-09-02T18:59:40.687607Z",
     "start_time": "2019-09-02T18:59:40.628617Z"
    }
   },
   "outputs": [],
   "source": [
    "X_no_nbr = np.load(\"evalX_no_neighbors.npy\")\n",
    "X_5_nbr = np.load(\"evalX_with5_neighbors.npy\")\n",
    "y = np.load(\"evalY_no_neighbors.npy\") #doesn't matter which one. y is y\n",
    "pred_no_nbr = np.load(\"eval_predictions_no_neighbors.npy\")\n",
    "pred_5_nbr = np.load(\"eval_predictions_with5_neighbors.npy\")\n",
    "pred_multivar = np.load(\"eval_pred_nni_best_multivariate.npy\")\n",
    "X_multivar = np.load(\"eval_X_nni_best_multivariate.npy\")\n",
    "Y_all = np.load(\"eval_y_nni_best_multivariate.npy\")\n",
    "pred_5_nbr_all = np.load('eval_predictions_5_nbr_all_cams_using_best_params_from_nni_for_camindex0.npy')\n",
    "pred_no_nbr_all = np.load('eval_predictions_no_nbr_all_cams_using_best_params_from_nni_for_camindex0.npy')"
   ]
  },
  {
   "cell_type": "code",
   "execution_count": 6,
   "metadata": {
    "ExecuteTime": {
     "end_time": "2019-09-02T18:59:48.283110Z",
     "start_time": "2019-09-02T18:59:48.280068Z"
    }
   },
   "outputs": [],
   "source": [
    "min_max_for_each_cam = list(zip(np.min(Y_all, axis = 0),np.max(Y_all, axis = 0)))"
   ]
  },
  {
   "cell_type": "code",
   "execution_count": 7,
   "metadata": {
    "ExecuteTime": {
     "end_time": "2019-09-02T18:59:50.686425Z",
     "start_time": "2019-09-02T18:59:50.680441Z"
    }
   },
   "outputs": [
    {
     "data": {
      "text/plain": [
       "[(0.06775293120563292, 0.6366665611120874),\n",
       " (0.17780912434798674, 0.5518964702411066)]"
      ]
     },
     "execution_count": 7,
     "metadata": {},
     "output_type": "execute_result"
    }
   ],
   "source": [
    "min_max_for_each_cam[:2]"
   ]
  },
  {
   "cell_type": "code",
   "execution_count": 8,
   "metadata": {
    "ExecuteTime": {
     "end_time": "2019-09-02T18:59:54.539848Z",
     "start_time": "2019-09-02T18:59:54.535739Z"
    }
   },
   "outputs": [],
   "source": [
    "def percentage_error(y, pred, _range):\n",
    "    return np.mean(np.abs(y - pred)) / _range"
   ]
  },
  {
   "cell_type": "code",
   "execution_count": 9,
   "metadata": {
    "ExecuteTime": {
     "end_time": "2019-09-02T18:59:54.725399Z",
     "start_time": "2019-09-02T18:59:54.718740Z"
    }
   },
   "outputs": [
    {
     "data": {
      "text/plain": [
       "0.11283484963527553"
      ]
     },
     "execution_count": 9,
     "metadata": {},
     "output_type": "execute_result"
    }
   ],
   "source": [
    "percentage_error(y[:,0], pred_no_nbr[:,0], min_max_for_each_cam[0][1] - min_max_for_each_cam[0][0])"
   ]
  },
  {
   "cell_type": "code",
   "execution_count": 10,
   "metadata": {
    "ExecuteTime": {
     "end_time": "2019-09-02T18:59:55.472000Z",
     "start_time": "2019-09-02T18:59:55.466738Z"
    }
   },
   "outputs": [
    {
     "data": {
      "text/plain": [
       "0.10015243308582393"
      ]
     },
     "execution_count": 10,
     "metadata": {},
     "output_type": "execute_result"
    }
   ],
   "source": [
    "percentage_error(y[:,0], pred_5_nbr[:,0], min_max_for_each_cam[0][1] - min_max_for_each_cam[0][0])"
   ]
  },
  {
   "cell_type": "code",
   "execution_count": 11,
   "metadata": {
    "ExecuteTime": {
     "end_time": "2019-09-02T18:59:55.651973Z",
     "start_time": "2019-09-02T18:59:55.646063Z"
    }
   },
   "outputs": [
    {
     "data": {
      "text/plain": [
       "0.13115865330201631"
      ]
     },
     "execution_count": 11,
     "metadata": {},
     "output_type": "execute_result"
    }
   ],
   "source": [
    "percentage_error(y[:,0], pred_multivar[:,0], min_max_for_each_cam[0][1] - min_max_for_each_cam[0][0])"
   ]
  },
  {
   "cell_type": "code",
   "execution_count": 108,
   "metadata": {
    "ExecuteTime": {
     "end_time": "2019-09-02T19:48:25.479689Z",
     "start_time": "2019-09-02T19:48:25.471297Z"
    }
   },
   "outputs": [],
   "source": [
    "multivar_errors = [100*percentage_error(Y_all[:,i], pred_multivar[:,i], min_max_for_each_cam[i][1] - min_max_for_each_cam[i][0]) for i in range(58)]\n",
    "univar_errors = [100*percentage_error(Y_all[:,i], pred_no_nbr_all[:,i], min_max_for_each_cam[i][1] - min_max_for_each_cam[i][0]) for i in range(58)]\n",
    "hybrid_errors = [100*percentage_error(Y_all[:,i], pred_5_nbr_all[:,i], min_max_for_each_cam[i][1] - min_max_for_each_cam[i][0]) for i in range(58)]"
   ]
  },
  {
   "cell_type": "code",
   "execution_count": 13,
   "metadata": {
    "ExecuteTime": {
     "end_time": "2019-09-02T19:00:25.916288Z",
     "start_time": "2019-09-02T19:00:24.757601Z"
    }
   },
   "outputs": [],
   "source": [
    "import seaborn as sns"
   ]
  },
  {
   "cell_type": "code",
   "execution_count": 557,
   "metadata": {
    "ExecuteTime": {
     "end_time": "2019-09-02T22:44:29.242984Z",
     "start_time": "2019-09-02T22:44:29.234988Z"
    }
   },
   "outputs": [],
   "source": [
    "def cdf_plot(values, bins=50, range_=None, marker = None, label_ ='', smooth=True):\n",
    "    if range_ is None:\n",
    "        range_ = (np.min(values),np.max(values))\n",
    "    x = np.linspace(range_[0],range_[1], bins)\n",
    "    hist, boundaries = np.histogram(values, bins, range=range_)\n",
    "    curve = np.cumsum(hist)/np.sum(hist)\n",
    "    if smooth:\n",
    "        from scipy.ndimage.filters import gaussian_filter1d\n",
    "        ysmoothed = gaussian_filter1d(curve, sigma=2)\n",
    "        return plt.plot(x,ysmoothed, marker=marker, markevery=3, label = label_ )\n",
    "    return plt.plot(x,curve, label=label_)"
   ]
  },
  {
   "cell_type": "code",
   "execution_count": 569,
   "metadata": {
    "ExecuteTime": {
     "end_time": "2019-09-03T00:59:03.340954Z",
     "start_time": "2019-09-03T00:59:03.154003Z"
    }
   },
   "outputs": [
    {
     "data": {
      "text/plain": [
       "(array([-0.2,  0. ,  0.2,  0.4,  0.6,  0.8,  1. ,  1.2]),\n",
       " <a list of 8 Text yticklabel objects>)"
      ]
     },
     "execution_count": 569,
     "metadata": {},
     "output_type": "execute_result"
    },
    {
     "data": {
      "image/png": "[encoded data removed]",
      "text/plain": [
       "<Figure size 720x432 with 1 Axes>"
      ]
     },
     "metadata": {
      "needs_background": "light"
     },
     "output_type": "display_data"
    }
   ],
   "source": [
    "plt.figure(figsize=(10,6))\n",
    "cdf_plot(multivar_errors, range_=(5,23), label_ = 'multivar', marker='x')\n",
    "cdf_plot(univar_errors, range_=(5,23), label_ = 'univar', marker='o')\n",
    "cdf_plot(hybrid_errors, range_=(5,23), label_ = 'hybrid', marker='s')\n",
    "plt.legend(fontsize=18)\n",
    "plt.grid()\n",
    "plt.xlim(5,23)\n",
    "plt.ylim(-0.02,1.02)\n",
    "plt.xlabel(\"Percentage Error\", fontsize=20)\n",
    "plt.ylabel(\"Cumulative Density\", fontsize=20)\n",
    "plt.xticks(size=16)\n",
    "plt.yticks(size=16)"
   ]
  },
  {
   "cell_type": "code",
   "execution_count": 546,
   "metadata": {
    "ExecuteTime": {
     "end_time": "2019-09-02T22:40:43.919013Z",
     "start_time": "2019-09-02T22:40:43.916009Z"
    }
   },
   "outputs": [],
   "source": [
    "def coeff_of_determination(y, pred):\n",
    "    m = np.mean(y)\n",
    "    SS_tot = np.sum((y - m)**2)\n",
    "    SS_res = np.sum((y - pred)**2)\n",
    "    return 1 - SS_res/SS_tot"
   ]
  },
  {
   "cell_type": "code",
   "execution_count": 550,
   "metadata": {
    "ExecuteTime": {
     "end_time": "2019-09-02T22:41:40.212169Z",
     "start_time": "2019-09-02T22:41:40.201090Z"
    }
   },
   "outputs": [],
   "source": [
    "multivar_R2s = [coeff_of_determination(Y_all[:,i], pred_multivar[:,i]) for i in range(58)]\n",
    "univar_R2s = [coeff_of_determination(Y_all[:,i], pred_no_nbr_all[:,i]) for i in range(58)]\n",
    "hybrid_R2s = [coeff_of_determination(Y_all[:,i], pred_5_nbr_all[:,i]) for i in range(58)]"
   ]
  },
  {
   "cell_type": "code",
   "execution_count": 549,
   "metadata": {
    "ExecuteTime": {
     "end_time": "2019-09-02T22:40:47.026279Z",
     "start_time": "2019-09-02T22:40:47.019200Z"
    }
   },
   "outputs": [
    {
     "data": {
      "text/plain": [
       "[0.5909422043296744, 0.02951493146789408]"
      ]
     },
     "execution_count": 549,
     "metadata": {},
     "output_type": "execute_result"
    }
   ],
   "source": [
    "multivar_R2s[:2]"
   ]
  },
  {
   "cell_type": "code",
   "execution_count": 79,
   "metadata": {
    "ExecuteTime": {
     "end_time": "2019-09-02T00:29:06.320613Z",
     "start_time": "2019-09-02T00:29:06.306508Z"
    }
   },
   "outputs": [
    {
     "data": {
      "text/plain": [
       "0.4432233599285729"
      ]
     },
     "execution_count": 79,
     "metadata": {},
     "output_type": "execute_result"
    }
   ],
   "source": [
    "np.mean(multivar_R2s)"
   ]
  },
  {
   "cell_type": "code",
   "execution_count": 80,
   "metadata": {
    "ExecuteTime": {
     "end_time": "2019-09-02T00:29:16.159897Z",
     "start_time": "2019-09-02T00:29:16.139171Z"
    }
   },
   "outputs": [
    {
     "data": {
      "text/plain": [
       "0.2494454027324607"
      ]
     },
     "execution_count": 80,
     "metadata": {},
     "output_type": "execute_result"
    }
   ],
   "source": [
    "np.std(multivar_R2s)"
   ]
  },
  {
   "cell_type": "code",
   "execution_count": 75,
   "metadata": {
    "ExecuteTime": {
     "end_time": "2019-09-02T00:15:15.459197Z",
     "start_time": "2019-09-02T00:15:15.451801Z"
    }
   },
   "outputs": [
    {
     "data": {
      "text/plain": [
       "0.6472748478000658"
      ]
     },
     "execution_count": 75,
     "metadata": {},
     "output_type": "execute_result"
    }
   ],
   "source": [
    "coeff_of_determination(Y_all[:,0], pred_no_nbr[:,0])"
   ]
  },
  {
   "cell_type": "code",
   "execution_count": 76,
   "metadata": {
    "ExecuteTime": {
     "end_time": "2019-09-02T00:15:31.047489Z",
     "start_time": "2019-09-02T00:15:31.028830Z"
    }
   },
   "outputs": [
    {
     "data": {
      "text/plain": [
       "0.7208181628927277"
      ]
     },
     "execution_count": 76,
     "metadata": {},
     "output_type": "execute_result"
    }
   ],
   "source": [
    "coeff_of_determination(Y_all[:,0], pred_5_nbr[:,0])"
   ]
  },
  {
   "cell_type": "code",
   "execution_count": 568,
   "metadata": {
    "ExecuteTime": {
     "end_time": "2019-09-03T00:58:43.539866Z",
     "start_time": "2019-09-03T00:58:43.371717Z"
    }
   },
   "outputs": [
    {
     "data": {
      "text/plain": [
       "(array([-0.2,  0. ,  0.2,  0.4,  0.6,  0.8,  1. ,  1.2]),\n",
       " <a list of 8 Text yticklabel objects>)"
      ]
     },
     "execution_count": 568,
     "metadata": {},
     "output_type": "execute_result"
    },
    {
     "data": {
      "image/png": "[encoded data removed]",
      "text/plain": [
       "<Figure size 720x432 with 1 Axes>"
      ]
     },
     "metadata": {
      "needs_background": "light"
     },
     "output_type": "display_data"
    }
   ],
   "source": [
    "plt.figure(figsize=(10,6))\n",
    "cdf_plot(multivar_R2s, bins=25, range_=(0,1), label_ = 'multivar', marker='x')\n",
    "cdf_plot(univar_R2s, bins=25, range_=(0,1), label_ = 'univar', marker='o')\n",
    "cdf_plot(hybrid_R2s, bins=25, range_=(0,1), label_ = 'hybrid', marker='s')\n",
    "plt.legend(fontsize=18)\n",
    "plt.grid()\n",
    "plt.xlim(-0.01,1.01)\n",
    "plt.ylim(-0.01,1.01)\n",
    "plt.xlabel(\"Coefficient of determination\", fontsize=20)\n",
    "plt.ylabel(\"Cumulative Density\", fontsize=20)\n",
    "plt.xticks(size=16)\n",
    "plt.yticks(size=16)"
   ]
  },
  {
   "cell_type": "code",
   "execution_count": null,
   "metadata": {},
   "outputs": [],
   "source": []
  }
 ],
 "metadata": {
  "kernelspec": {
   "display_name": "Python 3",
   "language": "python",
   "name": "python3"
  },
  "language_info": {
   "codemirror_mode": {
    "name": "ipython",
    "version": 3
   },
   "file_extension": ".py",
   "mimetype": "text/x-python",
   "name": "python",
   "nbconvert_exporter": "python",
   "pygments_lexer": "ipython3",
   "version": "3.7.3"
  },
  "varInspector": {
   "cols": {
    "lenName": 16,
    "lenType": 16,
    "lenVar": 40
   },
   "kernels_config": {
    "python": {
     "delete_cmd_postfix": "",
     "delete_cmd_prefix": "del ",
     "library": "var_list.py",
     "varRefreshCmd": "print(var_dic_list())"
    },
    "r": {
     "delete_cmd_postfix": ") ",
     "delete_cmd_prefix": "rm(",
     "library": "var_list.r",
     "varRefreshCmd": "cat(var_dic_list()) "
    }
   },
   "types_to_exclude": [
    "module",
    "function",
    "builtin_function_or_method",
    "instance",
    "_Feature"
   ],
   "window_display": false
  }
 },
 "nbformat": 4,
 "nbformat_minor": 2
}
