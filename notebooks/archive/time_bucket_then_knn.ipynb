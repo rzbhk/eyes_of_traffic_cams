{
 "cells": [
  {
   "cell_type": "code",
   "execution_count": 24,
   "metadata": {},
   "outputs": [],
   "source": [
    "import pandas as pd\n",
    "import numpy as np\n",
    "import os\n",
    "import matplotlib.pyplot as plt\n",
    "from sklearn import preprocessing\n",
    "from sklearn.model_selection import train_test_split, KFold\n",
    "import xgboost\n",
    "from sklearn.ensemble import RandomForestRegressor \n",
    "import xgboost as xgb\n",
    "from sklearn.metrics import mean_squared_error\n",
    "from sklearn.neighbors import KNeighborsRegressor\n",
    "from sklearn.metrics import r2_score\n",
    "from sklearn.model_selection import cross_validate\n",
    "from sklearn.preprocessing import minmax_scale,StandardScaler"
   ]
  },
  {
   "cell_type": "code",
   "execution_count": 2,
   "metadata": {},
   "outputs": [],
   "source": [
    "os.chdir(r\"C:\\Users\\Roozbeh\\Vehicular Data\\London\")"
   ]
  },
  {
   "cell_type": "code",
   "execution_count": 3,
   "metadata": {},
   "outputs": [],
   "source": [
    "df = pd.read_csv('AA_LONDON_DATA_VER3_DATA_TABLE.csv')"
   ]
  },
  {
   "cell_type": "code",
   "execution_count": 4,
   "metadata": {},
   "outputs": [],
   "source": [
    "camdf = pd.read_csv('AA_LONDON_CAMERA_DATA_TABLE.csv')"
   ]
  },
  {
   "cell_type": "code",
   "execution_count": 5,
   "metadata": {},
   "outputs": [
    {
     "data": {
      "text/html": [
       "<div>\n",
       "<style scoped>\n",
       "    .dataframe tbody tr th:only-of-type {\n",
       "        vertical-align: middle;\n",
       "    }\n",
       "\n",
       "    .dataframe tbody tr th {\n",
       "        vertical-align: top;\n",
       "    }\n",
       "\n",
       "    .dataframe thead th {\n",
       "        text-align: right;\n",
       "    }\n",
       "</style>\n",
       "<table border=\"1\" class=\"dataframe\">\n",
       "  <thead>\n",
       "    <tr style=\"text-align: right;\">\n",
       "      <th></th>\n",
       "      <th>S_NO</th>\n",
       "      <th>CAMERA_NAME</th>\n",
       "      <th>DOWNLOAD_DATE</th>\n",
       "      <th>IMG_NAME</th>\n",
       "      <th>DENSITY_VALUE</th>\n",
       "      <th>DL_TIMESTAMP_LOCAL</th>\n",
       "      <th>COMMENTS</th>\n",
       "      <th>CAMERA_ID</th>\n",
       "      <th>DL_TIMESTAMP_CITY</th>\n",
       "      <th>SELECT_FLAG</th>\n",
       "      <th>RED</th>\n",
       "      <th>GREEN</th>\n",
       "      <th>BLUE</th>\n",
       "    </tr>\n",
       "  </thead>\n",
       "  <tbody>\n",
       "    <tr>\n",
       "      <th>0</th>\n",
       "      <td>896208</td>\n",
       "      <td>549744</td>\n",
       "      <td>22-NOV-10</td>\n",
       "      <td>1290433594</td>\n",
       "      <td>16109.680</td>\n",
       "      <td>22-NOV-10 02.46.34.000000000 PM</td>\n",
       "      <td>NaN</td>\n",
       "      <td>182</td>\n",
       "      <td>22-NOV-10 01.46.34.000000000 PM</td>\n",
       "      <td>1</td>\n",
       "      <td>63621.507812</td>\n",
       "      <td>65366.414062</td>\n",
       "      <td>64108.488281</td>\n",
       "    </tr>\n",
       "    <tr>\n",
       "      <th>1</th>\n",
       "      <td>896209</td>\n",
       "      <td>549744</td>\n",
       "      <td>22-NOV-10</td>\n",
       "      <td>1290434044</td>\n",
       "      <td>11318.897</td>\n",
       "      <td>22-NOV-10 02.54.04.000000000 PM</td>\n",
       "      <td>NaN</td>\n",
       "      <td>182</td>\n",
       "      <td>22-NOV-10 01.54.04.000000000 PM</td>\n",
       "      <td>1</td>\n",
       "      <td>64379.992188</td>\n",
       "      <td>66520.500000</td>\n",
       "      <td>65209.515625</td>\n",
       "    </tr>\n",
       "  </tbody>\n",
       "</table>\n",
       "</div>"
      ],
      "text/plain": [
       "     S_NO  CAMERA_NAME DOWNLOAD_DATE    IMG_NAME  DENSITY_VALUE  \\\n",
       "0  896208       549744     22-NOV-10  1290433594      16109.680   \n",
       "1  896209       549744     22-NOV-10  1290434044      11318.897   \n",
       "\n",
       "                DL_TIMESTAMP_LOCAL  COMMENTS  CAMERA_ID  \\\n",
       "0  22-NOV-10 02.46.34.000000000 PM       NaN        182   \n",
       "1  22-NOV-10 02.54.04.000000000 PM       NaN        182   \n",
       "\n",
       "                 DL_TIMESTAMP_CITY  SELECT_FLAG           RED         GREEN  \\\n",
       "0  22-NOV-10 01.46.34.000000000 PM            1  63621.507812  65366.414062   \n",
       "1  22-NOV-10 01.54.04.000000000 PM            1  64379.992188  66520.500000   \n",
       "\n",
       "           BLUE  \n",
       "0  64108.488281  \n",
       "1  65209.515625  "
      ]
     },
     "execution_count": 5,
     "metadata": {},
     "output_type": "execute_result"
    }
   ],
   "source": [
    "df[:2]"
   ]
  },
  {
   "cell_type": "code",
   "execution_count": 6,
   "metadata": {},
   "outputs": [
    {
     "data": {
      "text/html": [
       "<div>\n",
       "<style scoped>\n",
       "    .dataframe tbody tr th:only-of-type {\n",
       "        vertical-align: middle;\n",
       "    }\n",
       "\n",
       "    .dataframe tbody tr th {\n",
       "        vertical-align: top;\n",
       "    }\n",
       "\n",
       "    .dataframe thead th {\n",
       "        text-align: right;\n",
       "    }\n",
       "</style>\n",
       "<table border=\"1\" class=\"dataframe\">\n",
       "  <thead>\n",
       "    <tr style=\"text-align: right;\">\n",
       "      <th></th>\n",
       "      <th>CAMERA_ID</th>\n",
       "      <th>CAMERA_NAME</th>\n",
       "      <th>CAMERA_DESC</th>\n",
       "      <th>EASTING</th>\n",
       "      <th>NORTHING</th>\n",
       "      <th>GEO_LAT</th>\n",
       "      <th>GEO_LON</th>\n",
       "      <th>CONGESTION_ZONE</th>\n",
       "    </tr>\n",
       "  </thead>\n",
       "  <tbody>\n",
       "    <tr>\n",
       "      <th>0</th>\n",
       "      <td>105</td>\n",
       "      <td>546600</td>\n",
       "      <td>A4 Cromwell Road by Earls Court Road</td>\n",
       "      <td>525351.39</td>\n",
       "      <td>178843.06</td>\n",
       "      <td>51.494572</td>\n",
       "      <td>-0.195707</td>\n",
       "      <td>0</td>\n",
       "    </tr>\n",
       "    <tr>\n",
       "      <th>1</th>\n",
       "      <td>106</td>\n",
       "      <td>546610</td>\n",
       "      <td>A4 Great West Road By Macbeth Street</td>\n",
       "      <td>522781.00</td>\n",
       "      <td>178369.00</td>\n",
       "      <td>51.490875</td>\n",
       "      <td>-0.232884</td>\n",
       "      <td>0</td>\n",
       "    </tr>\n",
       "  </tbody>\n",
       "</table>\n",
       "</div>"
      ],
      "text/plain": [
       "   CAMERA_ID  CAMERA_NAME                           CAMERA_DESC    EASTING  \\\n",
       "0        105       546600  A4 Cromwell Road by Earls Court Road  525351.39   \n",
       "1        106       546610  A4 Great West Road By Macbeth Street  522781.00   \n",
       "\n",
       "    NORTHING    GEO_LAT   GEO_LON  CONGESTION_ZONE  \n",
       "0  178843.06  51.494572 -0.195707                0  \n",
       "1  178369.00  51.490875 -0.232884                0  "
      ]
     },
     "execution_count": 6,
     "metadata": {},
     "output_type": "execute_result"
    }
   ],
   "source": [
    "camdf[:2]"
   ]
  },
  {
   "cell_type": "code",
   "execution_count": 7,
   "metadata": {},
   "outputs": [],
   "source": [
    "mergedf = df.merge(camdf,left_on=\"CAMERA_ID\",right_on=\"CAMERA_ID\")\n",
    "\n",
    "tdf = mergedf[[\"CAMERA_ID\",\"GEO_LON\",\"GEO_LAT\",\"DL_TIMESTAMP_CITY\",\"DENSITY_VALUE\"]].copy()\n",
    "\n",
    "tdf['TIMESTAMP']  = pd.to_datetime(tdf['DL_TIMESTAMP_CITY'],format=\"%d-%b-%y %I.%M.%S.000000000 %p\")\n",
    "\n",
    "try:\n",
    "    tdf.drop(\"DL_TIMESTAMP_CITY\",axis=1,inplace=True)\n",
    "except:\n",
    "    print(\"column doesn't exist\")"
   ]
  },
  {
   "cell_type": "code",
   "execution_count": 8,
   "metadata": {},
   "outputs": [
    {
     "data": {
      "text/html": [
       "<div>\n",
       "<style scoped>\n",
       "    .dataframe tbody tr th:only-of-type {\n",
       "        vertical-align: middle;\n",
       "    }\n",
       "\n",
       "    .dataframe tbody tr th {\n",
       "        vertical-align: top;\n",
       "    }\n",
       "\n",
       "    .dataframe thead th {\n",
       "        text-align: right;\n",
       "    }\n",
       "</style>\n",
       "<table border=\"1\" class=\"dataframe\">\n",
       "  <thead>\n",
       "    <tr style=\"text-align: right;\">\n",
       "      <th></th>\n",
       "      <th>CAMERA_ID</th>\n",
       "      <th>GEO_LON</th>\n",
       "      <th>GEO_LAT</th>\n",
       "      <th>DENSITY_VALUE</th>\n",
       "      <th>TIMESTAMP</th>\n",
       "    </tr>\n",
       "  </thead>\n",
       "  <tbody>\n",
       "    <tr>\n",
       "      <th>0</th>\n",
       "      <td>182</td>\n",
       "      <td>-0.245122</td>\n",
       "      <td>51.616876</td>\n",
       "      <td>16109.680</td>\n",
       "      <td>2010-11-22 13:46:34</td>\n",
       "    </tr>\n",
       "    <tr>\n",
       "      <th>1</th>\n",
       "      <td>182</td>\n",
       "      <td>-0.245122</td>\n",
       "      <td>51.616876</td>\n",
       "      <td>11318.897</td>\n",
       "      <td>2010-11-22 13:54:04</td>\n",
       "    </tr>\n",
       "  </tbody>\n",
       "</table>\n",
       "</div>"
      ],
      "text/plain": [
       "   CAMERA_ID   GEO_LON    GEO_LAT  DENSITY_VALUE           TIMESTAMP\n",
       "0        182 -0.245122  51.616876      16109.680 2010-11-22 13:46:34\n",
       "1        182 -0.245122  51.616876      11318.897 2010-11-22 13:54:04"
      ]
     },
     "execution_count": 8,
     "metadata": {},
     "output_type": "execute_result"
    }
   ],
   "source": [
    "tdf[:2]"
   ]
  },
  {
   "cell_type": "code",
   "execution_count": 9,
   "metadata": {},
   "outputs": [],
   "source": [
    "tdf[\"TIME_EPOCH\"] = (tdf.TIMESTAMP.astype(np.int64) // 10**9)"
   ]
  },
  {
   "cell_type": "code",
   "execution_count": 10,
   "metadata": {},
   "outputs": [],
   "source": [
    "tdf[\"TIME_EPOCH\"] -= tdf.TIME_EPOCH.min()"
   ]
  },
  {
   "cell_type": "code",
   "execution_count": 11,
   "metadata": {},
   "outputs": [
    {
     "data": {
      "text/plain": [
       "count                  896246\n",
       "unique                 401908\n",
       "top       2010-10-24 10:17:03\n",
       "freq                      163\n",
       "first     2010-10-11 09:55:01\n",
       "last      2010-11-22 18:59:42\n",
       "Name: TIMESTAMP, dtype: object"
      ]
     },
     "execution_count": 11,
     "metadata": {},
     "output_type": "execute_result"
    }
   ],
   "source": [
    "tdf.TIMESTAMP.describe()"
   ]
  },
  {
   "cell_type": "code",
   "execution_count": 12,
   "metadata": {},
   "outputs": [],
   "source": [
    "tdf[\"TIME_BUCKET\"] = tdf.TIME_EPOCH//600"
   ]
  },
  {
   "cell_type": "code",
   "execution_count": 13,
   "metadata": {},
   "outputs": [
    {
     "data": {
      "text/html": [
       "<div>\n",
       "<style scoped>\n",
       "    .dataframe tbody tr th:only-of-type {\n",
       "        vertical-align: middle;\n",
       "    }\n",
       "\n",
       "    .dataframe tbody tr th {\n",
       "        vertical-align: top;\n",
       "    }\n",
       "\n",
       "    .dataframe thead th {\n",
       "        text-align: right;\n",
       "    }\n",
       "</style>\n",
       "<table border=\"1\" class=\"dataframe\">\n",
       "  <thead>\n",
       "    <tr style=\"text-align: right;\">\n",
       "      <th></th>\n",
       "      <th>CAMERA_ID</th>\n",
       "      <th>GEO_LON</th>\n",
       "      <th>GEO_LAT</th>\n",
       "      <th>DENSITY_VALUE</th>\n",
       "      <th>TIMESTAMP</th>\n",
       "      <th>TIME_EPOCH</th>\n",
       "      <th>TIME_BUCKET</th>\n",
       "    </tr>\n",
       "  </thead>\n",
       "  <tbody>\n",
       "    <tr>\n",
       "      <th>0</th>\n",
       "      <td>182</td>\n",
       "      <td>-0.245122</td>\n",
       "      <td>51.616876</td>\n",
       "      <td>16109.680</td>\n",
       "      <td>2010-11-22 13:46:34</td>\n",
       "      <td>3642693</td>\n",
       "      <td>6071</td>\n",
       "    </tr>\n",
       "    <tr>\n",
       "      <th>1</th>\n",
       "      <td>182</td>\n",
       "      <td>-0.245122</td>\n",
       "      <td>51.616876</td>\n",
       "      <td>11318.897</td>\n",
       "      <td>2010-11-22 13:54:04</td>\n",
       "      <td>3643143</td>\n",
       "      <td>6071</td>\n",
       "    </tr>\n",
       "  </tbody>\n",
       "</table>\n",
       "</div>"
      ],
      "text/plain": [
       "   CAMERA_ID   GEO_LON    GEO_LAT  DENSITY_VALUE           TIMESTAMP  \\\n",
       "0        182 -0.245122  51.616876      16109.680 2010-11-22 13:46:34   \n",
       "1        182 -0.245122  51.616876      11318.897 2010-11-22 13:54:04   \n",
       "\n",
       "   TIME_EPOCH  TIME_BUCKET  \n",
       "0     3642693         6071  \n",
       "1     3643143         6071  "
      ]
     },
     "execution_count": 13,
     "metadata": {},
     "output_type": "execute_result"
    }
   ],
   "source": [
    "tdf[:2]"
   ]
  },
  {
   "cell_type": "code",
   "execution_count": null,
   "metadata": {},
   "outputs": [],
   "source": []
  },
  {
   "cell_type": "code",
   "execution_count": 26,
   "metadata": {},
   "outputs": [],
   "source": [
    "yscaler = StandardScaler()"
   ]
  },
  {
   "cell_type": "code",
   "execution_count": 27,
   "metadata": {},
   "outputs": [
    {
     "data": {
      "text/plain": [
       "StandardScaler(copy=True, with_mean=True, with_std=True)"
      ]
     },
     "execution_count": 27,
     "metadata": {},
     "output_type": "execute_result"
    }
   ],
   "source": [
    "yscaler.fit(tdf[\"DENSITY_VALUE\"].values.reshape((-1,1)))"
   ]
  },
  {
   "cell_type": "code",
   "execution_count": 28,
   "metadata": {},
   "outputs": [],
   "source": [
    "tdf.loc[:,\"SCALED_DENSITY_VALUE\"] = yscaler.transform(tdf[\"DENSITY_VALUE\"].values.reshape((-1,1)))"
   ]
  },
  {
   "cell_type": "code",
   "execution_count": 29,
   "metadata": {},
   "outputs": [
    {
     "data": {
      "text/html": [
       "<div>\n",
       "<style scoped>\n",
       "    .dataframe tbody tr th:only-of-type {\n",
       "        vertical-align: middle;\n",
       "    }\n",
       "\n",
       "    .dataframe tbody tr th {\n",
       "        vertical-align: top;\n",
       "    }\n",
       "\n",
       "    .dataframe thead th {\n",
       "        text-align: right;\n",
       "    }\n",
       "</style>\n",
       "<table border=\"1\" class=\"dataframe\">\n",
       "  <thead>\n",
       "    <tr style=\"text-align: right;\">\n",
       "      <th></th>\n",
       "      <th>CAMERA_ID</th>\n",
       "      <th>GEO_LON</th>\n",
       "      <th>GEO_LAT</th>\n",
       "      <th>DENSITY_VALUE</th>\n",
       "      <th>TIMESTAMP</th>\n",
       "      <th>TIME_EPOCH</th>\n",
       "      <th>TIME_BUCKET</th>\n",
       "      <th>SCALED_DENSITY_VALUE</th>\n",
       "    </tr>\n",
       "  </thead>\n",
       "  <tbody>\n",
       "    <tr>\n",
       "      <th>0</th>\n",
       "      <td>182</td>\n",
       "      <td>-0.245122</td>\n",
       "      <td>51.616876</td>\n",
       "      <td>16109.680</td>\n",
       "      <td>2010-11-22 13:46:34</td>\n",
       "      <td>3642693</td>\n",
       "      <td>6071</td>\n",
       "      <td>-0.459432</td>\n",
       "    </tr>\n",
       "    <tr>\n",
       "      <th>1</th>\n",
       "      <td>182</td>\n",
       "      <td>-0.245122</td>\n",
       "      <td>51.616876</td>\n",
       "      <td>11318.897</td>\n",
       "      <td>2010-11-22 13:54:04</td>\n",
       "      <td>3643143</td>\n",
       "      <td>6071</td>\n",
       "      <td>-0.906670</td>\n",
       "    </tr>\n",
       "  </tbody>\n",
       "</table>\n",
       "</div>"
      ],
      "text/plain": [
       "   CAMERA_ID   GEO_LON    GEO_LAT  DENSITY_VALUE           TIMESTAMP  \\\n",
       "0        182 -0.245122  51.616876      16109.680 2010-11-22 13:46:34   \n",
       "1        182 -0.245122  51.616876      11318.897 2010-11-22 13:54:04   \n",
       "\n",
       "   TIME_EPOCH  TIME_BUCKET  SCALED_DENSITY_VALUE  \n",
       "0     3642693         6071             -0.459432  \n",
       "1     3643143         6071             -0.906670  "
      ]
     },
     "execution_count": 29,
     "metadata": {},
     "output_type": "execute_result"
    }
   ],
   "source": [
    "tdf[:2]"
   ]
  },
  {
   "cell_type": "code",
   "execution_count": 31,
   "metadata": {},
   "outputs": [],
   "source": [
    "Xfeatures = [\"GEO_LON\",\"GEO_LAT\"]\n",
    "Tfeature = \"TIME_EPOCH\"\n",
    "target = \"SCALED_DENSITY_VALUE\""
   ]
  },
  {
   "cell_type": "code",
   "execution_count": 15,
   "metadata": {},
   "outputs": [],
   "source": [
    "from tqdm import tqdm_notebook"
   ]
  },
  {
   "cell_type": "code",
   "execution_count": 32,
   "metadata": {},
   "outputs": [],
   "source": [
    "knr = KNeighborsRegressor(weights=\"distance\",n_jobs=-1)"
   ]
  },
  {
   "cell_type": "code",
   "execution_count": 37,
   "metadata": {},
   "outputs": [
    {
     "data": {
      "application/vnd.jupyter.widget-view+json": {
       "model_id": "107714b00c7842689c3c31d360363a17",
       "version_major": 2,
       "version_minor": 0
      },
      "text/plain": [
       "HBox(children=(IntProgress(value=0, max=2917), HTML(value='')))"
      ]
     },
     "metadata": {},
     "output_type": "display_data"
    },
    {
     "name": "stdout",
     "output_type": "stream",
     "text": [
      "\n"
     ]
    },
    {
     "name": "stderr",
     "output_type": "stream",
     "text": [
      "Exception in thread Thread-28839:\n",
      "Traceback (most recent call last):\n",
      "  File \"C:\\Anaconda3\\lib\\threading.py\", line 916, in _bootstrap_inner\n",
      "    self.run()\n",
      "  File \"C:\\Anaconda3\\lib\\site-packages\\tqdm\\_tqdm.py\", line 144, in run\n",
      "    for instance in self.tqdm_cls._instances:\n",
      "  File \"C:\\Anaconda3\\lib\\_weakrefset.py\", line 60, in __iter__\n",
      "    for itemref in self.data:\n",
      "RuntimeError: Set changed size during iteration\n",
      "\n"
     ]
    },
    {
     "name": "stdout",
     "output_type": "stream",
     "text": [
      "\n"
     ]
    }
   ],
   "source": [
    "mses_per_time_bucket = {}\n",
    "r2s_per_time_bucket = {}\n",
    "kf = KFold(n_splits=4,shuffle=True)\n",
    "# c = 0\n",
    "for t, group in tqdm_notebook(tdf.groupby(\"TIME_BUCKET\")):\n",
    "#     if c == 100:\n",
    "#         break\n",
    "#     c+=1\n",
    "    mses = []\n",
    "    r2s = []\n",
    "    group = group.reset_index()\n",
    "    for train_index, test_index in kf.split(group):        \n",
    "        knr.fit(group.loc[train_index,Xfeatures],group.loc[train_index,target])\n",
    "        r2s.append(knr.score(group.loc[test_index,Xfeatures],group.loc[test_index,target]))\n",
    "        mses.append(mean_squared_error(group.loc[test_index,target],knr.predict(group.loc[test_index,Xfeatures])))\n",
    "    mses_per_time_bucket[t] = np.mean(np.sqrt(mses))\n",
    "    r2s_per_time_bucket[t] = np.mean(r2s)"
   ]
  },
  {
   "cell_type": "code",
   "execution_count": 39,
   "metadata": {},
   "outputs": [
    {
     "data": {
      "text/plain": [
       "(0.5196335818438959, 0.47729760390096077)"
      ]
     },
     "execution_count": 39,
     "metadata": {},
     "output_type": "execute_result"
    }
   ],
   "source": [
    "np.mean([v for k,v in mses_per_time_bucket.items()]),np.mean([v for k,v in r2s_per_time_bucket.items()])"
   ]
  },
  {
   "cell_type": "code",
   "execution_count": 55,
   "metadata": {},
   "outputs": [
    {
     "data": {
      "application/vnd.jupyter.widget-view+json": {
       "model_id": "88ba43b29ed840aaa3095743a4a10f41",
       "version_major": 2,
       "version_minor": 0
      },
      "text/plain": [
       "HBox(children=(IntProgress(value=0, max=2917), HTML(value='')))"
      ]
     },
     "metadata": {},
     "output_type": "display_data"
    },
    {
     "name": "stdout",
     "output_type": "stream",
     "text": [
      "time:  2475 Expected n_neighbors <= n_samples,  but n_samples = 3, n_neighbors = 5\n",
      "time:  3066 Expected n_neighbors <= n_samples,  but n_samples = 3, n_neighbors = 5\n",
      "\n"
     ]
    }
   ],
   "source": [
    "mses_per_time_bucket_camholdout = {}\n",
    "r2s_per_time_bucket_camholdout = {}\n",
    "for t, group in tqdm_notebook(tdf.groupby(\"TIME_BUCKET\")):\n",
    "    try:\n",
    "        test_cameras = np.random.choice(group.CAMERA_ID.unique(),size=15)\n",
    "\n",
    "        df_train = group[~group.CAMERA_ID.isin(test_cameras)]\n",
    "        df_test = group[group.CAMERA_ID.isin(test_cameras)]\n",
    "\n",
    "        knr.fit(df_train[Xfeatures],df_train[target])\n",
    "\n",
    "        mses_per_time_bucket_camholdout[t] = np.sqrt(mean_squared_error(df_test[target],knr.predict(df_test[Xfeatures])))\n",
    "        r2s_per_time_bucket_camholdout[t] = knr.score(df_test[Xfeatures],df_test[target])\n",
    "    except Exception as e:\n",
    "        print(\"time: \",t,e)"
   ]
  },
  {
   "cell_type": "code",
   "execution_count": 56,
   "metadata": {},
   "outputs": [
    {
     "data": {
      "text/plain": [
       "(0.8111102258022918, -0.37205394915957674)"
      ]
     },
     "execution_count": 56,
     "metadata": {},
     "output_type": "execute_result"
    }
   ],
   "source": [
    "np.mean([v for k,v in mses_per_time_bucket_camholdout.items()]),np.mean([v for k,v in r2s_per_time_bucket_camholdout.items()])"
   ]
  },
  {
   "cell_type": "markdown",
   "metadata": {},
   "source": [
    "### THERE IS NO POINT IN FORECAST AS IT REQUIRES TO HAVE SEEN TIME BEFORE. BASICALLY THIS MODEL IS ONLY USEFUL IN INTERPOLATION.\n"
   ]
  },
  {
   "cell_type": "code",
   "execution_count": 57,
   "metadata": {},
   "outputs": [],
   "source": [
    "tdf.sort_values([\"TIME_BUCKET\"],inplace=True)"
   ]
  },
  {
   "cell_type": "code",
   "execution_count": 58,
   "metadata": {},
   "outputs": [],
   "source": [
    "from sklearn.model_selection import TimeSeriesSplit"
   ]
  },
  {
   "cell_type": "markdown",
   "metadata": {},
   "source": [
    "#### This below doesn't make sense as each test is within the same time bucket of 10 minute."
   ]
  },
  {
   "cell_type": "code",
   "execution_count": 62,
   "metadata": {},
   "outputs": [
    {
     "data": {
      "application/vnd.jupyter.widget-view+json": {
       "model_id": "4dbcccf96c1347dcbb9a0986d29a5ad5",
       "version_major": 2,
       "version_minor": 0
      },
      "text/plain": [
       "HBox(children=(IntProgress(value=0, max=128), HTML(value='')))"
      ]
     },
     "metadata": {},
     "output_type": "display_data"
    },
    {
     "name": "stdout",
     "output_type": "stream",
     "text": [
      "\n"
     ]
    }
   ],
   "source": [
    "mses_per_time_bucket_forecast = {}\n",
    "r2s_per_time_bucket_forecast = {}\n",
    "tscv = TimeSeriesSplit(n_splits=4)\n",
    "for t, group in tqdm_notebook(tdf[tdf.TIME_BUCKET < 200].groupby(\"TIME_BUCKET\")):\n",
    "    try:\n",
    "        mses = []\n",
    "        r2s = []\n",
    "        group = group.reset_index()\n",
    "        for train_index, test_index in tscv.split(group):        \n",
    "            knr.fit(group.loc[train_index,Xfeatures],group.loc[train_index,target])\n",
    "            r2s.append(knr.score(group.loc[test_index,Xfeatures],group.loc[test_index,target]))\n",
    "            mses.append(mean_squared_error(group.loc[test_index,target],knr.predict(group.loc[test_index,Xfeatures])))\n",
    "        mses_per_time_bucket_forecast[t] = np.mean(np.sqrt(mses))\n",
    "        r2s_per_time_bucket_forecast[t] = np.mean(r2s)\n",
    "    except Exception as e:\n",
    "        print(\"time bucket:\",t,e)"
   ]
  },
  {
   "cell_type": "code",
   "execution_count": 63,
   "metadata": {},
   "outputs": [
    {
     "data": {
      "text/plain": [
       "(0.8789451113590842, -0.19071267846491677)"
      ]
     },
     "execution_count": 63,
     "metadata": {},
     "output_type": "execute_result"
    }
   ],
   "source": [
    "np.mean([v for k,v in mses_per_time_bucket_forecast.items()]),np.mean([v for k,v in r2s_per_time_bucket_forecast.items()])"
   ]
  },
  {
   "cell_type": "code",
   "execution_count": null,
   "metadata": {},
   "outputs": [],
   "source": []
  }
 ],
 "metadata": {
  "kernelspec": {
   "display_name": "Python 3",
   "language": "python",
   "name": "python3"
  },
  "language_info": {
   "codemirror_mode": {
    "name": "ipython",
    "version": 3
   },
   "file_extension": ".py",
   "mimetype": "text/x-python",
   "name": "python",
   "nbconvert_exporter": "python",
   "pygments_lexer": "ipython3",
   "version": "3.6.4"
  }
 },
 "nbformat": 4,
 "nbformat_minor": 2
}
