{
 "cells": [
  {
   "cell_type": "code",
   "execution_count": 1,
   "metadata": {},
   "outputs": [],
   "source": [
    "import pandas as pd\n",
    "import numpy as np\n",
    "import os\n",
    "import matplotlib.pyplot as plt\n",
    "from sklearn import preprocessing\n",
    "from sklearn.model_selection import train_test_split, KFold\n",
    "import xgboost\n",
    "from sklearn.ensemble import RandomForestRegressor \n",
    "import xgboost as xgb\n",
    "from sklearn.metrics import mean_squared_error\n",
    "from sklearn.neighbors import KNeighborsRegressor\n",
    "from sklearn.metrics import r2_score\n",
    "from sklearn.model_selection import cross_validate"
   ]
  },
  {
   "cell_type": "code",
   "execution_count": 2,
   "metadata": {},
   "outputs": [],
   "source": [
    "os.chdir(r\"C:\\Users\\Roozbeh\\Vehicular Data\\London\")"
   ]
  },
  {
   "cell_type": "code",
   "execution_count": 3,
   "metadata": {},
   "outputs": [],
   "source": [
    "df = pd.read_csv('AA_LONDON_DATA_VER3_DATA_TABLE.csv')"
   ]
  },
  {
   "cell_type": "code",
   "execution_count": 4,
   "metadata": {},
   "outputs": [],
   "source": [
    "camdf = pd.read_csv('AA_LONDON_CAMERA_DATA_TABLE.csv')"
   ]
  },
  {
   "cell_type": "code",
   "execution_count": 5,
   "metadata": {},
   "outputs": [
    {
     "data": {
      "text/html": [
       "<div>\n",
       "<style scoped>\n",
       "    .dataframe tbody tr th:only-of-type {\n",
       "        vertical-align: middle;\n",
       "    }\n",
       "\n",
       "    .dataframe tbody tr th {\n",
       "        vertical-align: top;\n",
       "    }\n",
       "\n",
       "    .dataframe thead th {\n",
       "        text-align: right;\n",
       "    }\n",
       "</style>\n",
       "<table border=\"1\" class=\"dataframe\">\n",
       "  <thead>\n",
       "    <tr style=\"text-align: right;\">\n",
       "      <th></th>\n",
       "      <th>S_NO</th>\n",
       "      <th>CAMERA_NAME</th>\n",
       "      <th>DOWNLOAD_DATE</th>\n",
       "      <th>IMG_NAME</th>\n",
       "      <th>DENSITY_VALUE</th>\n",
       "      <th>DL_TIMESTAMP_LOCAL</th>\n",
       "      <th>COMMENTS</th>\n",
       "      <th>CAMERA_ID</th>\n",
       "      <th>DL_TIMESTAMP_CITY</th>\n",
       "      <th>SELECT_FLAG</th>\n",
       "      <th>RED</th>\n",
       "      <th>GREEN</th>\n",
       "      <th>BLUE</th>\n",
       "    </tr>\n",
       "  </thead>\n",
       "  <tbody>\n",
       "    <tr>\n",
       "      <th>0</th>\n",
       "      <td>896208</td>\n",
       "      <td>549744</td>\n",
       "      <td>22-NOV-10</td>\n",
       "      <td>1290433594</td>\n",
       "      <td>16109.680</td>\n",
       "      <td>22-NOV-10 02.46.34.000000000 PM</td>\n",
       "      <td>NaN</td>\n",
       "      <td>182</td>\n",
       "      <td>22-NOV-10 01.46.34.000000000 PM</td>\n",
       "      <td>1</td>\n",
       "      <td>63621.507812</td>\n",
       "      <td>65366.414062</td>\n",
       "      <td>64108.488281</td>\n",
       "    </tr>\n",
       "    <tr>\n",
       "      <th>1</th>\n",
       "      <td>896209</td>\n",
       "      <td>549744</td>\n",
       "      <td>22-NOV-10</td>\n",
       "      <td>1290434044</td>\n",
       "      <td>11318.897</td>\n",
       "      <td>22-NOV-10 02.54.04.000000000 PM</td>\n",
       "      <td>NaN</td>\n",
       "      <td>182</td>\n",
       "      <td>22-NOV-10 01.54.04.000000000 PM</td>\n",
       "      <td>1</td>\n",
       "      <td>64379.992188</td>\n",
       "      <td>66520.500000</td>\n",
       "      <td>65209.515625</td>\n",
       "    </tr>\n",
       "  </tbody>\n",
       "</table>\n",
       "</div>"
      ],
      "text/plain": [
       "     S_NO  CAMERA_NAME DOWNLOAD_DATE    IMG_NAME  DENSITY_VALUE  \\\n",
       "0  896208       549744     22-NOV-10  1290433594      16109.680   \n",
       "1  896209       549744     22-NOV-10  1290434044      11318.897   \n",
       "\n",
       "                DL_TIMESTAMP_LOCAL  COMMENTS  CAMERA_ID  \\\n",
       "0  22-NOV-10 02.46.34.000000000 PM       NaN        182   \n",
       "1  22-NOV-10 02.54.04.000000000 PM       NaN        182   \n",
       "\n",
       "                 DL_TIMESTAMP_CITY  SELECT_FLAG           RED         GREEN  \\\n",
       "0  22-NOV-10 01.46.34.000000000 PM            1  63621.507812  65366.414062   \n",
       "1  22-NOV-10 01.54.04.000000000 PM            1  64379.992188  66520.500000   \n",
       "\n",
       "           BLUE  \n",
       "0  64108.488281  \n",
       "1  65209.515625  "
      ]
     },
     "execution_count": 5,
     "metadata": {},
     "output_type": "execute_result"
    }
   ],
   "source": [
    "df[:2]"
   ]
  },
  {
   "cell_type": "code",
   "execution_count": 6,
   "metadata": {},
   "outputs": [
    {
     "data": {
      "text/html": [
       "<div>\n",
       "<style scoped>\n",
       "    .dataframe tbody tr th:only-of-type {\n",
       "        vertical-align: middle;\n",
       "    }\n",
       "\n",
       "    .dataframe tbody tr th {\n",
       "        vertical-align: top;\n",
       "    }\n",
       "\n",
       "    .dataframe thead th {\n",
       "        text-align: right;\n",
       "    }\n",
       "</style>\n",
       "<table border=\"1\" class=\"dataframe\">\n",
       "  <thead>\n",
       "    <tr style=\"text-align: right;\">\n",
       "      <th></th>\n",
       "      <th>CAMERA_ID</th>\n",
       "      <th>CAMERA_NAME</th>\n",
       "      <th>CAMERA_DESC</th>\n",
       "      <th>EASTING</th>\n",
       "      <th>NORTHING</th>\n",
       "      <th>GEO_LAT</th>\n",
       "      <th>GEO_LON</th>\n",
       "      <th>CONGESTION_ZONE</th>\n",
       "    </tr>\n",
       "  </thead>\n",
       "  <tbody>\n",
       "    <tr>\n",
       "      <th>0</th>\n",
       "      <td>105</td>\n",
       "      <td>546600</td>\n",
       "      <td>A4 Cromwell Road by Earls Court Road</td>\n",
       "      <td>525351.39</td>\n",
       "      <td>178843.06</td>\n",
       "      <td>51.494572</td>\n",
       "      <td>-0.195707</td>\n",
       "      <td>0</td>\n",
       "    </tr>\n",
       "    <tr>\n",
       "      <th>1</th>\n",
       "      <td>106</td>\n",
       "      <td>546610</td>\n",
       "      <td>A4 Great West Road By Macbeth Street</td>\n",
       "      <td>522781.00</td>\n",
       "      <td>178369.00</td>\n",
       "      <td>51.490875</td>\n",
       "      <td>-0.232884</td>\n",
       "      <td>0</td>\n",
       "    </tr>\n",
       "  </tbody>\n",
       "</table>\n",
       "</div>"
      ],
      "text/plain": [
       "   CAMERA_ID  CAMERA_NAME                           CAMERA_DESC    EASTING  \\\n",
       "0        105       546600  A4 Cromwell Road by Earls Court Road  525351.39   \n",
       "1        106       546610  A4 Great West Road By Macbeth Street  522781.00   \n",
       "\n",
       "    NORTHING    GEO_LAT   GEO_LON  CONGESTION_ZONE  \n",
       "0  178843.06  51.494572 -0.195707                0  \n",
       "1  178369.00  51.490875 -0.232884                0  "
      ]
     },
     "execution_count": 6,
     "metadata": {},
     "output_type": "execute_result"
    }
   ],
   "source": [
    "camdf[:2]"
   ]
  },
  {
   "cell_type": "code",
   "execution_count": null,
   "metadata": {},
   "outputs": [],
   "source": [
    "mergedf = df.merge(camdf,left_on=\"CAMERA_ID\",right_on=\"CAMERA_ID\")\n",
    "\n",
    "tdf = mergedf[[\"CAMERA_ID\",\"GEO_LON\",\"GEO_LAT\",\"DL_TIMESTAMP_CITY\",\"DENSITY_VALUE\"]].copy()\n",
    "\n",
    "tdf['TIMESTAMP']  = pd.to_datetime(tdf['DL_TIMESTAMP_CITY'],format=\"%d-%b-%y %I.%M.%S.000000000 %p\")\n",
    "\n",
    "try:\n",
    "    tdf.drop(\"DL_TIMESTAMP_CITY\",axis=1,inplace=True)\n",
    "except:\n",
    "    print(\"column doesn't exist\")"
   ]
  },
  {
   "cell_type": "code",
   "execution_count": 11,
   "metadata": {},
   "outputs": [
    {
     "data": {
      "text/html": [
       "<div>\n",
       "<style scoped>\n",
       "    .dataframe tbody tr th:only-of-type {\n",
       "        vertical-align: middle;\n",
       "    }\n",
       "\n",
       "    .dataframe tbody tr th {\n",
       "        vertical-align: top;\n",
       "    }\n",
       "\n",
       "    .dataframe thead th {\n",
       "        text-align: right;\n",
       "    }\n",
       "</style>\n",
       "<table border=\"1\" class=\"dataframe\">\n",
       "  <thead>\n",
       "    <tr style=\"text-align: right;\">\n",
       "      <th></th>\n",
       "      <th>CAMERA_ID</th>\n",
       "      <th>GEO_LON</th>\n",
       "      <th>GEO_LAT</th>\n",
       "      <th>DENSITY_VALUE</th>\n",
       "      <th>TIMESTAMP</th>\n",
       "    </tr>\n",
       "  </thead>\n",
       "  <tbody>\n",
       "    <tr>\n",
       "      <th>0</th>\n",
       "      <td>182</td>\n",
       "      <td>-0.245122</td>\n",
       "      <td>51.616876</td>\n",
       "      <td>16109.680</td>\n",
       "      <td>2010-11-22 13:46:34</td>\n",
       "    </tr>\n",
       "    <tr>\n",
       "      <th>1</th>\n",
       "      <td>182</td>\n",
       "      <td>-0.245122</td>\n",
       "      <td>51.616876</td>\n",
       "      <td>11318.897</td>\n",
       "      <td>2010-11-22 13:54:04</td>\n",
       "    </tr>\n",
       "  </tbody>\n",
       "</table>\n",
       "</div>"
      ],
      "text/plain": [
       "   CAMERA_ID   GEO_LON    GEO_LAT  DENSITY_VALUE           TIMESTAMP\n",
       "0        182 -0.245122  51.616876      16109.680 2010-11-22 13:46:34\n",
       "1        182 -0.245122  51.616876      11318.897 2010-11-22 13:54:04"
      ]
     },
     "execution_count": 11,
     "metadata": {},
     "output_type": "execute_result"
    }
   ],
   "source": [
    "tdf[:2]"
   ]
  },
  {
   "cell_type": "code",
   "execution_count": 12,
   "metadata": {},
   "outputs": [],
   "source": [
    "from sklearn.preprocessing import minmax_scale,StandardScaler"
   ]
  },
  {
   "cell_type": "code",
   "execution_count": 13,
   "metadata": {},
   "outputs": [],
   "source": [
    "tdf_scaled = tdf.copy()\n",
    "tdf_scaled[\"TIME_EPOCH\"] = (tdf_scaled.TIMESTAMP.astype(np.int64) // 10**9)\n",
    "tdf_scaled.drop(\"TIMESTAMP\",axis=1,inplace=True)"
   ]
  },
  {
   "cell_type": "code",
   "execution_count": 14,
   "metadata": {},
   "outputs": [],
   "source": [
    "Xscaler = StandardScaler()\n",
    "yscaler = StandardScaler()"
   ]
  },
  {
   "cell_type": "code",
   "execution_count": 15,
   "metadata": {},
   "outputs": [],
   "source": [
    "features = [\"GEO_LON\",\"GEO_LAT\",\"TIME_EPOCH\"]\n",
    "target = \"DENSITY_VALUE\""
   ]
  },
  {
   "cell_type": "code",
   "execution_count": 16,
   "metadata": {},
   "outputs": [
    {
     "data": {
      "text/plain": [
       "StandardScaler(copy=True, with_mean=True, with_std=True)"
      ]
     },
     "execution_count": 16,
     "metadata": {},
     "output_type": "execute_result"
    }
   ],
   "source": [
    "Xscaler.fit(tdf_scaled[features])"
   ]
  },
  {
   "cell_type": "code",
   "execution_count": 17,
   "metadata": {},
   "outputs": [],
   "source": [
    "tdf_scaled.loc[:,features] = Xscaler.transform(tdf_scaled[features])"
   ]
  },
  {
   "cell_type": "code",
   "execution_count": 18,
   "metadata": {},
   "outputs": [
    {
     "data": {
      "text/html": [
       "<div>\n",
       "<style scoped>\n",
       "    .dataframe tbody tr th:only-of-type {\n",
       "        vertical-align: middle;\n",
       "    }\n",
       "\n",
       "    .dataframe tbody tr th {\n",
       "        vertical-align: top;\n",
       "    }\n",
       "\n",
       "    .dataframe thead th {\n",
       "        text-align: right;\n",
       "    }\n",
       "</style>\n",
       "<table border=\"1\" class=\"dataframe\">\n",
       "  <thead>\n",
       "    <tr style=\"text-align: right;\">\n",
       "      <th></th>\n",
       "      <th>CAMERA_ID</th>\n",
       "      <th>GEO_LON</th>\n",
       "      <th>GEO_LAT</th>\n",
       "      <th>DENSITY_VALUE</th>\n",
       "      <th>TIME_EPOCH</th>\n",
       "    </tr>\n",
       "  </thead>\n",
       "  <tbody>\n",
       "    <tr>\n",
       "      <th>0</th>\n",
       "      <td>182</td>\n",
       "      <td>-1.04219</td>\n",
       "      <td>0.093388</td>\n",
       "      <td>16109.680</td>\n",
       "      <td>1.687794</td>\n",
       "    </tr>\n",
       "    <tr>\n",
       "      <th>1</th>\n",
       "      <td>182</td>\n",
       "      <td>-1.04219</td>\n",
       "      <td>0.093388</td>\n",
       "      <td>11318.897</td>\n",
       "      <td>1.688208</td>\n",
       "    </tr>\n",
       "  </tbody>\n",
       "</table>\n",
       "</div>"
      ],
      "text/plain": [
       "   CAMERA_ID  GEO_LON   GEO_LAT  DENSITY_VALUE  TIME_EPOCH\n",
       "0        182 -1.04219  0.093388      16109.680    1.687794\n",
       "1        182 -1.04219  0.093388      11318.897    1.688208"
      ]
     },
     "execution_count": 18,
     "metadata": {},
     "output_type": "execute_result"
    }
   ],
   "source": [
    "tdf_scaled[:2]"
   ]
  },
  {
   "cell_type": "code",
   "execution_count": 19,
   "metadata": {},
   "outputs": [
    {
     "data": {
      "text/plain": [
       "(array([6.29430e+04, 1.65024e+05, 2.02636e+05, 1.81667e+05, 1.34736e+05,\n",
       "        8.71730e+04, 4.43660e+04, 1.51770e+04, 2.34500e+03, 1.79000e+02]),\n",
       " array([5.25718650e+01, 6.46663178e+03, 1.28806917e+04, 1.92947516e+04,\n",
       "        2.57088115e+04, 3.21228714e+04, 3.85369313e+04, 4.49509913e+04,\n",
       "        5.13650512e+04, 5.77791111e+04, 6.41931710e+04]),\n",
       " <a list of 10 Patch objects>)"
      ]
     },
     "execution_count": 19,
     "metadata": {},
     "output_type": "execute_result"
    },
    {
     "data": {
      "image/png": "[encoded data removed]",
      "text/plain": [
       "<Figure size 432x288 with 1 Axes>"
      ]
     },
     "metadata": {},
     "output_type": "display_data"
    }
   ],
   "source": [
    "plt.hist(tdf_scaled.DENSITY_VALUE)"
   ]
  },
  {
   "cell_type": "code",
   "execution_count": 20,
   "metadata": {},
   "outputs": [
    {
     "data": {
      "text/plain": [
       "StandardScaler(copy=True, with_mean=True, with_std=True)"
      ]
     },
     "execution_count": 20,
     "metadata": {},
     "output_type": "execute_result"
    }
   ],
   "source": [
    "yscaler.fit(tdf_scaled[\"DENSITY_VALUE\"].values.reshape((-1,1)))"
   ]
  },
  {
   "cell_type": "code",
   "execution_count": 21,
   "metadata": {},
   "outputs": [],
   "source": [
    "tdf_scaled.loc[:,\"DENSITY_VALUE\"] = yscaler.transform(tdf_scaled[\"DENSITY_VALUE\"].values.reshape((-1,1)))"
   ]
  },
  {
   "cell_type": "code",
   "execution_count": 22,
   "metadata": {},
   "outputs": [
    {
     "data": {
      "text/html": [
       "<div>\n",
       "<style scoped>\n",
       "    .dataframe tbody tr th:only-of-type {\n",
       "        vertical-align: middle;\n",
       "    }\n",
       "\n",
       "    .dataframe tbody tr th {\n",
       "        vertical-align: top;\n",
       "    }\n",
       "\n",
       "    .dataframe thead th {\n",
       "        text-align: right;\n",
       "    }\n",
       "</style>\n",
       "<table border=\"1\" class=\"dataframe\">\n",
       "  <thead>\n",
       "    <tr style=\"text-align: right;\">\n",
       "      <th></th>\n",
       "      <th>CAMERA_ID</th>\n",
       "      <th>GEO_LON</th>\n",
       "      <th>GEO_LAT</th>\n",
       "      <th>DENSITY_VALUE</th>\n",
       "      <th>TIME_EPOCH</th>\n",
       "    </tr>\n",
       "  </thead>\n",
       "  <tbody>\n",
       "    <tr>\n",
       "      <th>0</th>\n",
       "      <td>182</td>\n",
       "      <td>-1.04219</td>\n",
       "      <td>0.093388</td>\n",
       "      <td>-0.459432</td>\n",
       "      <td>1.687794</td>\n",
       "    </tr>\n",
       "    <tr>\n",
       "      <th>1</th>\n",
       "      <td>182</td>\n",
       "      <td>-1.04219</td>\n",
       "      <td>0.093388</td>\n",
       "      <td>-0.906670</td>\n",
       "      <td>1.688208</td>\n",
       "    </tr>\n",
       "    <tr>\n",
       "      <th>2</th>\n",
       "      <td>182</td>\n",
       "      <td>-1.04219</td>\n",
       "      <td>0.093388</td>\n",
       "      <td>-0.936942</td>\n",
       "      <td>1.689285</td>\n",
       "    </tr>\n",
       "    <tr>\n",
       "      <th>3</th>\n",
       "      <td>182</td>\n",
       "      <td>-1.04219</td>\n",
       "      <td>0.093388</td>\n",
       "      <td>-0.296766</td>\n",
       "      <td>1.689865</td>\n",
       "    </tr>\n",
       "    <tr>\n",
       "      <th>4</th>\n",
       "      <td>182</td>\n",
       "      <td>-1.04219</td>\n",
       "      <td>0.093388</td>\n",
       "      <td>-0.976171</td>\n",
       "      <td>1.690197</td>\n",
       "    </tr>\n",
       "  </tbody>\n",
       "</table>\n",
       "</div>"
      ],
      "text/plain": [
       "   CAMERA_ID  GEO_LON   GEO_LAT  DENSITY_VALUE  TIME_EPOCH\n",
       "0        182 -1.04219  0.093388      -0.459432    1.687794\n",
       "1        182 -1.04219  0.093388      -0.906670    1.688208\n",
       "2        182 -1.04219  0.093388      -0.936942    1.689285\n",
       "3        182 -1.04219  0.093388      -0.296766    1.689865\n",
       "4        182 -1.04219  0.093388      -0.976171    1.690197"
      ]
     },
     "execution_count": 22,
     "metadata": {},
     "output_type": "execute_result"
    }
   ],
   "source": [
    "tdf_scaled[:5]"
   ]
  },
  {
   "cell_type": "code",
   "execution_count": 23,
   "metadata": {},
   "outputs": [
    {
     "data": {
      "text/plain": [
       "(array([6.29430e+04, 1.65024e+05, 2.02636e+05, 1.81667e+05, 1.34736e+05,\n",
       "        8.71730e+04, 4.43660e+04, 1.51770e+04, 2.34500e+03, 1.79000e+02]),\n",
       " array([-1.95842481, -1.35964772, -0.76087064, -0.16209355,  0.43668353,\n",
       "         1.03546062,  1.63423771,  2.23301479,  2.83179188,  3.43056896,\n",
       "         4.02934605]),\n",
       " <a list of 10 Patch objects>)"
      ]
     },
     "execution_count": 23,
     "metadata": {},
     "output_type": "execute_result"
    },
    {
     "data": {
      "image/png": "[encoded data removed]",
      "text/plain": [
       "<Figure size 432x288 with 1 Axes>"
      ]
     },
     "metadata": {},
     "output_type": "display_data"
    }
   ],
   "source": [
    "plt.hist(tdf_scaled.DENSITY_VALUE)"
   ]
  },
  {
   "cell_type": "markdown",
   "metadata": {},
   "source": [
    "Let's get train test split"
   ]
  },
  {
   "cell_type": "code",
   "execution_count": 24,
   "metadata": {},
   "outputs": [],
   "source": [
    "X_train, X_test, y_train, y_test = train_test_split(tdf_scaled[features],tdf_scaled[target],shuffle=True,random_state=12345)"
   ]
  },
  {
   "cell_type": "code",
   "execution_count": null,
   "metadata": {},
   "outputs": [],
   "source": []
  },
  {
   "cell_type": "code",
   "execution_count": null,
   "metadata": {},
   "outputs": [],
   "source": []
  },
  {
   "cell_type": "code",
   "execution_count": 26,
   "metadata": {},
   "outputs": [],
   "source": [
    "rfreg = RandomForestRegressor(n_jobs = -1,n_estimators = 100)"
   ]
  },
  {
   "cell_type": "code",
   "execution_count": 29,
   "metadata": {},
   "outputs": [],
   "source": [
    "mses = []\n",
    "r2s = []\n",
    "kf = KFold(n_splits=4,shuffle=True)\n",
    "for train_index, test_index in kf.split(tdf_scaled):\n",
    "    rfreg = RandomForestRegressor(n_jobs = -1,n_estimators = 100)\n",
    "    rfreg.fit(tdf_scaled.loc[train_index,features],tdf_scaled.loc[train_index,target])\n",
    "    r2s.append(rfreg.score(tdf_scaled.loc[test_index,features],tdf_scaled.loc[test_index,target]))\n",
    "    mses.append(mean_squared_error(tdf_scaled.loc[test_index,target],rfreg.predict(tdf_scaled.loc[test_index,features])))"
   ]
  },
  {
   "cell_type": "code",
   "execution_count": 30,
   "metadata": {},
   "outputs": [
    {
     "data": {
      "text/plain": [
       "(array([0.33661578, 0.33737287, 0.33920894, 0.33947866]),\n",
       " [0.887231470089923,\n",
       "  0.8860222055117317,\n",
       "  0.8851654235781107,\n",
       "  0.8841271658676231])"
      ]
     },
     "execution_count": 30,
     "metadata": {},
     "output_type": "execute_result"
    }
   ],
   "source": [
    "np.sqrt(mses),r2s"
   ]
  },
  {
   "cell_type": "code",
   "execution_count": null,
   "metadata": {},
   "outputs": [],
   "source": [
    "rfreg = RandomForestRegressor(n_jobs = -1,n_estimators = 100)"
   ]
  },
  {
   "cell_type": "code",
   "execution_count": null,
   "metadata": {},
   "outputs": [],
   "source": [
    "rf_res = cross_validate(rfreg,tdf_scaled[features],tdf_scaled[target],scoring=[\"r2\",\"rmse\"],cv=4,n_jobs=-1,return_train_score=True)"
   ]
  },
  {
   "cell_type": "code",
   "execution_count": null,
   "metadata": {},
   "outputs": [],
   "source": [
    "rf_res"
   ]
  },
  {
   "cell_type": "markdown",
   "metadata": {},
   "source": [
    "Let's try knn-r from scikit"
   ]
  },
  {
   "cell_type": "code",
   "execution_count": null,
   "metadata": {},
   "outputs": [],
   "source": []
  },
  {
   "cell_type": "code",
   "execution_count": 31,
   "metadata": {},
   "outputs": [],
   "source": [
    "knreg = KNeighborsRegressor(n_jobs=-1,weights = \"distance\")"
   ]
  },
  {
   "cell_type": "code",
   "execution_count": null,
   "metadata": {},
   "outputs": [],
   "source": []
  },
  {
   "cell_type": "code",
   "execution_count": null,
   "metadata": {},
   "outputs": [],
   "source": []
  },
  {
   "cell_type": "code",
   "execution_count": null,
   "metadata": {},
   "outputs": [],
   "source": [
    "knr_res = cross_validate(knreg,tdf_scaled[features],tdf_scaled[target],scoring=[\"r2\",\"mean_squared_error\"],cv=4,n_jobs=-1,return_train_score=True)"
   ]
  },
  {
   "cell_type": "code",
   "execution_count": null,
   "metadata": {},
   "outputs": [],
   "source": [
    "knr_res"
   ]
  },
  {
   "cell_type": "code",
   "execution_count": 32,
   "metadata": {},
   "outputs": [],
   "source": [
    "knr_mses = []\n",
    "knr_r2s = []\n",
    "kf = KFold(n_splits=4,shuffle=True)\n",
    "for train_index, test_index in kf.split(tdf_scaled):\n",
    "    knreg = KNeighborsRegressor(n_jobs=-1,weights = \"distance\")\n",
    "    knreg.fit(tdf_scaled.loc[train_index,features],tdf_scaled.loc[train_index,target])\n",
    "    knr_r2s.append(knreg.score(tdf_scaled.loc[test_index,features],tdf_scaled.loc[test_index,target]))\n",
    "    knr_mses.append(mean_squared_error(tdf_scaled.loc[test_index,target],knreg.predict(tdf_scaled.loc[test_index,features])))"
   ]
  },
  {
   "cell_type": "code",
   "execution_count": 33,
   "metadata": {},
   "outputs": [
    {
     "data": {
      "text/plain": [
       "array([0.33786062, 0.33438946, 0.33524828, 0.33364744])"
      ]
     },
     "execution_count": 33,
     "metadata": {},
     "output_type": "execute_result"
    }
   ],
   "source": [
    "np.sqrt(knr_mses)"
   ]
  },
  {
   "cell_type": "code",
   "execution_count": 34,
   "metadata": {},
   "outputs": [
    {
     "data": {
      "text/plain": [
       "[0.885354384498201, 0.8882433577311021, 0.88751251111103, 0.8891926827897271]"
      ]
     },
     "execution_count": 34,
     "metadata": {},
     "output_type": "execute_result"
    }
   ],
   "source": [
    "knr_r2s"
   ]
  },
  {
   "cell_type": "markdown",
   "metadata": {},
   "source": [
    "### Trying holding out some cameras when testing (number of cameras are very limited so as x,y coordinates)"
   ]
  },
  {
   "cell_type": "code",
   "execution_count": 35,
   "metadata": {},
   "outputs": [],
   "source": [
    "knr_mses = []\n",
    "knr_r2s = []\n",
    "for i in range(10):\n",
    "    test_cameras = np.random.choice(tdf_scaled.CAMERA_ID.unique(),size=15)\n",
    "\n",
    "    df_train = tdf_scaled[~tdf_scaled.CAMERA_ID.isin(test_cameras)]\n",
    "    df_test = tdf_scaled[tdf_scaled.CAMERA_ID.isin(test_cameras)]\n",
    "\n",
    "    knreg = KNeighborsRegressor(n_jobs=-1,weights = \"distance\")\n",
    "    knreg.fit(df_train[features],df_train[target])\n",
    "    knr_r2s.append(knreg.score(df_test[features],df_test[target]))\n",
    "    knr_mses.append(mean_squared_error(df_test[target],knreg.predict(df_test[features])))"
   ]
  },
  {
   "cell_type": "code",
   "execution_count": 68,
   "metadata": {},
   "outputs": [
    {
     "data": {
      "text/plain": [
       "(array([0.90048179, 1.02264185, 0.96393434, 1.1097555 , 1.06587156,\n",
       "        1.00703832, 0.91425884, 0.99387183, 1.05439011, 0.98068451]),\n",
       " 1.001292864381655,\n",
       " [0.20535412362454442,\n",
       "  -0.030487350206272575,\n",
       "  0.024182720401401125,\n",
       "  -0.23817319343501353,\n",
       "  -0.2961429324548055,\n",
       "  -0.0408205599885092,\n",
       "  0.13332966655165257,\n",
       "  -0.059212532247634016,\n",
       "  0.0098967014404292,\n",
       "  -0.19749056425548317])"
      ]
     },
     "execution_count": 68,
     "metadata": {},
     "output_type": "execute_result"
    }
   ],
   "source": [
    "np.sqrt(knr_mses),np.mean(np.sqrt(knr_mses)),knr_r2s"
   ]
  },
  {
   "cell_type": "code",
   "execution_count": 37,
   "metadata": {},
   "outputs": [],
   "source": [
    "rf_mses = []\n",
    "rf_r2s = []\n",
    "for i in range(5):\n",
    "    test_cameras = np.random.choice(tdf_scaled.CAMERA_ID.unique(),size=15)\n",
    "\n",
    "    df_train = tdf_scaled[~tdf_scaled.CAMERA_ID.isin(test_cameras)]\n",
    "    df_test = tdf_scaled[tdf_scaled.CAMERA_ID.isin(test_cameras)]\n",
    "\n",
    "    rfreg = RandomForestRegressor(n_jobs = -1,n_estimators = 100)\n",
    "    rfreg.fit(df_train[features],df_train[target])\n",
    "    rf_r2s.append(rfreg.score(df_test[features],df_test[target]))\n",
    "    rf_mses.append(mean_squared_error(df_test[target],rfreg.predict(df_test[features])))"
   ]
  },
  {
   "cell_type": "code",
   "execution_count": 69,
   "metadata": {},
   "outputs": [
    {
     "data": {
      "text/plain": [
       "(array([0.8605844 , 0.84358207, 1.01978436, 0.97863077, 0.98420934]),\n",
       " 0.937358191073969,\n",
       " [0.32766385079534355,\n",
       "  0.3236101718992287,\n",
       "  -0.043316586668658674,\n",
       "  0.08461416570799263,\n",
       "  0.05736835102493254])"
      ]
     },
     "execution_count": 69,
     "metadata": {},
     "output_type": "execute_result"
    }
   ],
   "source": [
    "np.sqrt(rf_mses),np.mean(np.sqrt(rf_mses)),rf_r2s"
   ]
  },
  {
   "cell_type": "markdown",
   "metadata": {},
   "source": [
    "### Let's try forecast part"
   ]
  },
  {
   "cell_type": "code",
   "execution_count": 53,
   "metadata": {},
   "outputs": [],
   "source": [
    "tdf_scaled.sort_values([\"TIME_EPOCH\"],inplace=True)"
   ]
  },
  {
   "cell_type": "code",
   "execution_count": 49,
   "metadata": {},
   "outputs": [],
   "source": [
    "from sklearn.model_selection import TimeSeriesSplit"
   ]
  },
  {
   "cell_type": "code",
   "execution_count": 50,
   "metadata": {},
   "outputs": [],
   "source": [
    "tscv = TimeSeriesSplit(n_splits=4)"
   ]
  },
  {
   "cell_type": "code",
   "execution_count": 54,
   "metadata": {},
   "outputs": [],
   "source": [
    "knr_r2s_forecast = []\n",
    "knr_mses_forecast = []\n",
    "for train_index, test_index in tscv.split(tdf_scaled):\n",
    "    knreg = KNeighborsRegressor(n_jobs=-1,weights = \"distance\")\n",
    "    knreg.fit(tdf_scaled.loc[train_index,features],tdf_scaled.loc[train_index,target])\n",
    "    knr_r2s_forecast.append(knreg.score(tdf_scaled.loc[test_index,features],tdf_scaled.loc[test_index,target]))\n",
    "    knr_mses_forecast.append(mean_squared_error(tdf_scaled.loc[test_index,target],knreg.predict(tdf_scaled.loc[test_index,features])))"
   ]
  },
  {
   "cell_type": "code",
   "execution_count": 64,
   "metadata": {},
   "outputs": [
    {
     "data": {
      "text/plain": [
       "(array([1.05168212, 0.99561216, 1.10547723, 1.00613269]), 1.0397260510781883)"
      ]
     },
     "execution_count": 64,
     "metadata": {},
     "output_type": "execute_result"
    }
   ],
   "source": [
    "np.sqrt(knr_mses_forecast),np.mean(np.sqrt(knr_mses_forecast))"
   ]
  },
  {
   "cell_type": "code",
   "execution_count": 57,
   "metadata": {},
   "outputs": [
    {
     "data": {
      "text/plain": [
       "[-0.21500719725637252,\n",
       " 0.0017321373742889001,\n",
       " -0.1699272791718951,\n",
       " 0.07865351640299723]"
      ]
     },
     "execution_count": 57,
     "metadata": {},
     "output_type": "execute_result"
    }
   ],
   "source": [
    "knr_r2s_forecast"
   ]
  },
  {
   "cell_type": "code",
   "execution_count": 58,
   "metadata": {},
   "outputs": [],
   "source": [
    "rf_r2s_forecast = []\n",
    "rf_mses_forecast = []\n",
    "for train_index, test_index in tscv.split(tdf_scaled):\n",
    "    rfreg = RandomForestRegressor(n_jobs = -1,n_estimators = 100)\n",
    "    rfreg.fit(tdf_scaled.loc[train_index,features],tdf_scaled.loc[train_index,target])\n",
    "    rf_r2s_forecast.append(rfreg.score(tdf_scaled.loc[test_index,features],tdf_scaled.loc[test_index,target]))\n",
    "    rf_mses_forecast.append(mean_squared_error(tdf_scaled.loc[test_index,target],rfreg.predict(tdf_scaled.loc[test_index,features])))"
   ]
  },
  {
   "cell_type": "code",
   "execution_count": 65,
   "metadata": {},
   "outputs": [
    {
     "data": {
      "text/plain": [
       "(array([0.98698865, 1.01478231, 1.08543041, 0.99089357]), 1.019523735695623)"
      ]
     },
     "execution_count": 65,
     "metadata": {},
     "output_type": "execute_result"
    }
   ],
   "source": [
    "np.sqrt(rf_mses_forecast),np.mean(np.sqrt(rf_mses_forecast))"
   ]
  },
  {
   "cell_type": "code",
   "execution_count": 60,
   "metadata": {},
   "outputs": [
    {
     "data": {
      "text/plain": [
       "[-0.07012419081738508,\n",
       " -0.03708053287956825,\n",
       " -0.1278808704558847,\n",
       " 0.10635199582926147]"
      ]
     },
     "execution_count": 60,
     "metadata": {},
     "output_type": "execute_result"
    }
   ],
   "source": [
    "rf_r2s_forecast"
   ]
  },
  {
   "cell_type": "code",
   "execution_count": 61,
   "metadata": {},
   "outputs": [],
   "source": [
    "xgb_r2s_forecast = []\n",
    "xgb_mses_forecast = []\n",
    "for train_index, test_index in tscv.split(tdf_scaled):\n",
    "    xgbreg = xgb.XGBRegressor(n_jobs=-1,num_rounds = 250)\n",
    "    xgbreg.fit(tdf_scaled.loc[train_index,features],tdf_scaled.loc[train_index,target])\n",
    "    xgb_r2s_forecast.append(xgbreg.score(tdf_scaled.loc[test_index,features],tdf_scaled.loc[test_index,target]))\n",
    "    xgb_mses_forecast.append(mean_squared_error(tdf_scaled.loc[test_index,target],xgbreg.predict(tdf_scaled.loc[test_index,features])))"
   ]
  },
  {
   "cell_type": "code",
   "execution_count": 66,
   "metadata": {},
   "outputs": [
    {
     "data": {
      "text/plain": [
       "(array([0.94074077, 0.91209494, 1.02932626, 0.97877771]), 0.9652349182161343)"
      ]
     },
     "execution_count": 66,
     "metadata": {},
     "output_type": "execute_result"
    }
   ],
   "source": [
    "np.sqrt(xgb_mses_forecast),np.mean(np.sqrt(xgb_mses_forecast))"
   ]
  },
  {
   "cell_type": "code",
   "execution_count": 63,
   "metadata": {},
   "outputs": [
    {
     "data": {
      "text/plain": [
       "[0.027813027205506047,\n",
       " 0.16218757792275285,\n",
       " -0.014297523351051389,\n",
       " 0.12807203676891132]"
      ]
     },
     "execution_count": 63,
     "metadata": {},
     "output_type": "execute_result"
    }
   ],
   "source": [
    "xgb_r2s_forecast"
   ]
  },
  {
   "cell_type": "code",
   "execution_count": null,
   "metadata": {},
   "outputs": [],
   "source": []
  },
  {
   "cell_type": "code",
   "execution_count": null,
   "metadata": {},
   "outputs": [],
   "source": []
  },
  {
   "cell_type": "code",
   "execution_count": null,
   "metadata": {},
   "outputs": [],
   "source": []
  },
  {
   "cell_type": "code",
   "execution_count": null,
   "metadata": {},
   "outputs": [],
   "source": [
    "X_train, X_test, y_train, y_test = train_test_split(tdf_scaled[features], tdf_scaled[target], test_size=0.2, random_state=123)"
   ]
  },
  {
   "cell_type": "code",
   "execution_count": null,
   "metadata": {},
   "outputs": [],
   "source": [
    "dtrain = xgb.DMatrix(X_train,y_train)\n",
    "dtest = xgb.DMatrix(X_test,y_test)"
   ]
  },
  {
   "cell_type": "code",
   "execution_count": null,
   "metadata": {},
   "outputs": [],
   "source": [
    "xgbreg = xgb.XGBRegressor(n_jobs=-1)"
   ]
  },
  {
   "cell_type": "code",
   "execution_count": 41,
   "metadata": {},
   "outputs": [],
   "source": [
    "xgb_mses = []\n",
    "xgb_r2s = []\n",
    "kf = KFold(n_splits=4,shuffle=True)\n",
    "for train_index, test_index in kf.split(tdf_scaled):\n",
    "    xgbreg = xgb.XGBRegressor(n_jobs=-1,num_rounds=250)\n",
    "    xgbreg.fit(tdf_scaled.loc[train_index,features],tdf_scaled.loc[train_index,target])\n",
    "    xgb_r2s.append(xgbreg.score(tdf_scaled.loc[test_index,features],tdf_scaled.loc[test_index,target]))\n",
    "    xgb_mses.append(mean_squared_error(tdf_scaled.loc[test_index,target],xgbreg.predict(tdf_scaled.loc[test_index,features])))"
   ]
  },
  {
   "cell_type": "code",
   "execution_count": 42,
   "metadata": {},
   "outputs": [
    {
     "data": {
      "text/plain": [
       "(array([0.83247154, 0.83315695, 0.8343967 , 0.83248735]),\n",
       " [0.30685556743335174,\n",
       "  0.3023608155234251,\n",
       "  0.30797234685553915,\n",
       "  0.3063429619055199])"
      ]
     },
     "execution_count": 42,
     "metadata": {},
     "output_type": "execute_result"
    }
   ],
   "source": [
    "np.sqrt(xgb_mses),xgb_r2s"
   ]
  },
  {
   "cell_type": "code",
   "execution_count": 70,
   "metadata": {},
   "outputs": [],
   "source": [
    "xgb_mses = []\n",
    "xgb_r2s = []\n",
    "for i in range(5):\n",
    "    test_cameras = np.random.choice(tdf_scaled.CAMERA_ID.unique(),size=15)\n",
    "\n",
    "    df_train = tdf_scaled[~tdf_scaled.CAMERA_ID.isin(test_cameras)]\n",
    "    df_test = tdf_scaled[tdf_scaled.CAMERA_ID.isin(test_cameras)]\n",
    "\n",
    "    xgbreg = xgb.XGBRegressor(n_jobs=-1,num_rounds = 200)\n",
    "    xgbreg.fit(df_train[features],df_train[target])\n",
    "    xgb_r2s.append(xgbreg.score(df_test[features],df_test[target]))\n",
    "    xgb_mses.append(mean_squared_error(df_test[target],xgbreg.predict(df_test[features])))"
   ]
  },
  {
   "cell_type": "code",
   "execution_count": 71,
   "metadata": {},
   "outputs": [
    {
     "data": {
      "text/plain": [
       "(array([0.83487645, 0.82168749, 0.87428683, 0.9120464 , 0.93251724]),\n",
       " 0.8750828812868484)"
      ]
     },
     "execution_count": 71,
     "metadata": {},
     "output_type": "execute_result"
    }
   ],
   "source": [
    "np.sqrt(xgb_mses),np.mean(np.sqrt(xgb_mses))"
   ]
  },
  {
   "cell_type": "code",
   "execution_count": 45,
   "metadata": {},
   "outputs": [
    {
     "data": {
      "text/plain": [
       "[0.25402999559830897,\n",
       " 0.24897232363445043,\n",
       " 0.10824006688631582,\n",
       " 0.2456396096929738,\n",
       " 0.16751012038318913]"
      ]
     },
     "execution_count": 45,
     "metadata": {},
     "output_type": "execute_result"
    }
   ],
   "source": [
    "xgb_r2s"
   ]
  },
  {
   "cell_type": "code",
   "execution_count": null,
   "metadata": {},
   "outputs": [],
   "source": [
    "dtrain = xgb.DMatrix(tdf_scaled[features],label=tdf_scaled[target])\n",
    "params = {\"objective\":\"reg:linear\",'colsample_bytree': 0.3,'learning_rate': 0.1,'max_depth': 5, 'alpha': 10}\n",
    "cv_results = xgb.cv(params=params,dtrain=dtrain, nfold=5,num_boost_round=200,early_stopping_rounds=10,metrics=\"rmse\", as_pandas=True, seed=123)"
   ]
  },
  {
   "cell_type": "code",
   "execution_count": null,
   "metadata": {},
   "outputs": [],
   "source": [
    "cv_results"
   ]
  },
  {
   "cell_type": "code",
   "execution_count": null,
   "metadata": {},
   "outputs": [],
   "source": [
    "cv_results[\"test-rmse-mean\"].plot()"
   ]
  },
  {
   "cell_type": "code",
   "execution_count": null,
   "metadata": {},
   "outputs": [],
   "source": []
  },
  {
   "cell_type": "code",
   "execution_count": null,
   "metadata": {},
   "outputs": [],
   "source": []
  },
  {
   "cell_type": "code",
   "execution_count": null,
   "metadata": {},
   "outputs": [],
   "source": []
  },
  {
   "cell_type": "code",
   "execution_count": null,
   "metadata": {},
   "outputs": [],
   "source": []
  },
  {
   "cell_type": "code",
   "execution_count": null,
   "metadata": {},
   "outputs": [],
   "source": []
  },
  {
   "cell_type": "code",
   "execution_count": null,
   "metadata": {},
   "outputs": [],
   "source": []
  },
  {
   "cell_type": "code",
   "execution_count": null,
   "metadata": {},
   "outputs": [],
   "source": []
  },
  {
   "cell_type": "code",
   "execution_count": null,
   "metadata": {},
   "outputs": [],
   "source": []
  },
  {
   "cell_type": "code",
   "execution_count": null,
   "metadata": {},
   "outputs": [],
   "source": []
  },
  {
   "cell_type": "code",
   "execution_count": null,
   "metadata": {},
   "outputs": [],
   "source": []
  },
  {
   "cell_type": "code",
   "execution_count": null,
   "metadata": {},
   "outputs": [],
   "source": []
  },
  {
   "cell_type": "code",
   "execution_count": null,
   "metadata": {},
   "outputs": [],
   "source": []
  },
  {
   "cell_type": "code",
   "execution_count": null,
   "metadata": {},
   "outputs": [],
   "source": []
  },
  {
   "cell_type": "code",
   "execution_count": null,
   "metadata": {},
   "outputs": [],
   "source": []
  },
  {
   "cell_type": "code",
   "execution_count": null,
   "metadata": {},
   "outputs": [],
   "source": []
  },
  {
   "cell_type": "code",
   "execution_count": null,
   "metadata": {},
   "outputs": [],
   "source": []
  },
  {
   "cell_type": "code",
   "execution_count": null,
   "metadata": {},
   "outputs": [],
   "source": []
  },
  {
   "cell_type": "code",
   "execution_count": null,
   "metadata": {},
   "outputs": [],
   "source": []
  },
  {
   "cell_type": "code",
   "execution_count": null,
   "metadata": {},
   "outputs": [],
   "source": []
  },
  {
   "cell_type": "code",
   "execution_count": null,
   "metadata": {},
   "outputs": [],
   "source": []
  },
  {
   "cell_type": "code",
   "execution_count": null,
   "metadata": {},
   "outputs": [],
   "source": []
  },
  {
   "cell_type": "code",
   "execution_count": null,
   "metadata": {},
   "outputs": [],
   "source": []
  },
  {
   "cell_type": "code",
   "execution_count": null,
   "metadata": {},
   "outputs": [],
   "source": []
  },
  {
   "cell_type": "code",
   "execution_count": null,
   "metadata": {},
   "outputs": [],
   "source": []
  },
  {
   "cell_type": "code",
   "execution_count": null,
   "metadata": {},
   "outputs": [],
   "source": []
  },
  {
   "cell_type": "code",
   "execution_count": null,
   "metadata": {},
   "outputs": [],
   "source": []
  },
  {
   "cell_type": "code",
   "execution_count": null,
   "metadata": {},
   "outputs": [],
   "source": [
    "cam_groups = tdf.groupby(\"CAMERA_ID\")"
   ]
  },
  {
   "cell_type": "code",
   "execution_count": null,
   "metadata": {},
   "outputs": [],
   "source": [
    "tdf[\"SCALED_DENSITY\"] = preprocessing.scale(tdf[\"DENSITY_VALUE\"])"
   ]
  },
  {
   "cell_type": "code",
   "execution_count": null,
   "metadata": {},
   "outputs": [],
   "source": [
    "tdf[\"SCALED01percamera_DENSITY\"] = 1"
   ]
  },
  {
   "cell_type": "code",
   "execution_count": null,
   "metadata": {},
   "outputs": [],
   "source": [
    "for cam_id, cam_df in cam_groups:\n",
    "    tdf.loc[tdf[\"CAMERA_ID\"] == cam_id,\"SCALED01percamera_DENSITY\"] = minmax_scale(cam_df[\"DENSITY\"])"
   ]
  },
  {
   "cell_type": "code",
   "execution_count": null,
   "metadata": {},
   "outputs": [],
   "source": [
    "tdf[\"TIME_EPOCH\"] = tdf.TIMESTAMP.astype(np.int64) // 10**9"
   ]
  },
  {
   "cell_type": "code",
   "execution_count": null,
   "metadata": {},
   "outputs": [],
   "source": [
    "tdf[:2]"
   ]
  },
  {
   "cell_type": "code",
   "execution_count": null,
   "metadata": {},
   "outputs": [],
   "source": [
    "tdf.to_parquet()"
   ]
  },
  {
   "cell_type": "code",
   "execution_count": null,
   "metadata": {},
   "outputs": [],
   "source": []
  }
 ],
 "metadata": {
  "kernelspec": {
   "display_name": "Python 3",
   "language": "python",
   "name": "python3"
  },
  "language_info": {
   "codemirror_mode": {
    "name": "ipython",
    "version": 3
   },
   "file_extension": ".py",
   "mimetype": "text/x-python",
   "name": "python",
   "nbconvert_exporter": "python",
   "pygments_lexer": "ipython3",
   "version": "3.6.4"
  }
 },
 "nbformat": 4,
 "nbformat_minor": 2
}
