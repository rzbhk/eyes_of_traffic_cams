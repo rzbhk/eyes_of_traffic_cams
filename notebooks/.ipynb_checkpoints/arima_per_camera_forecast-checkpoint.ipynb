{
 "cells": [
  {
   "cell_type": "code",
   "execution_count": 1,
   "metadata": {},
   "outputs": [
    {
     "ename": "ModuleNotFoundError",
     "evalue": "No module named 'matplotlib'",
     "output_type": "error",
     "traceback": [
      "\u001b[1;31m---------------------------------------------------------------------------\u001b[0m",
      "\u001b[1;31mModuleNotFoundError\u001b[0m                       Traceback (most recent call last)",
      "\u001b[1;32m<ipython-input-1-c884f6acbf06>\u001b[0m in \u001b[0;36m<module>\u001b[1;34m\u001b[0m\n\u001b[0;32m      2\u001b[0m \u001b[1;32mimport\u001b[0m \u001b[0mnumpy\u001b[0m \u001b[1;32mas\u001b[0m \u001b[0mnp\u001b[0m\u001b[1;33m\u001b[0m\u001b[1;33m\u001b[0m\u001b[0m\n\u001b[0;32m      3\u001b[0m \u001b[1;32mimport\u001b[0m \u001b[0mos\u001b[0m\u001b[1;33m\u001b[0m\u001b[1;33m\u001b[0m\u001b[0m\n\u001b[1;32m----> 4\u001b[1;33m \u001b[1;32mimport\u001b[0m \u001b[0mmatplotlib\u001b[0m\u001b[1;33m.\u001b[0m\u001b[0mpyplot\u001b[0m \u001b[1;32mas\u001b[0m \u001b[0mplt\u001b[0m\u001b[1;33m\u001b[0m\u001b[1;33m\u001b[0m\u001b[0m\n\u001b[0m\u001b[0;32m      5\u001b[0m \u001b[1;32mfrom\u001b[0m \u001b[0msklearn\u001b[0m \u001b[1;32mimport\u001b[0m \u001b[0mpreprocessing\u001b[0m\u001b[1;33m\u001b[0m\u001b[1;33m\u001b[0m\u001b[0m\n\u001b[0;32m      6\u001b[0m \u001b[1;32mfrom\u001b[0m \u001b[0msklearn\u001b[0m\u001b[1;33m.\u001b[0m\u001b[0mmodel_selection\u001b[0m \u001b[1;32mimport\u001b[0m \u001b[0mtrain_test_split\u001b[0m\u001b[1;33m,\u001b[0m \u001b[0mKFold\u001b[0m\u001b[1;33m\u001b[0m\u001b[1;33m\u001b[0m\u001b[0m\n",
      "\u001b[1;31mModuleNotFoundError\u001b[0m: No module named 'matplotlib'"
     ]
    }
   ],
   "source": [
    "import pandas as pd\n",
    "import numpy as np\n",
    "import os\n",
    "import matplotlib.pyplot as plt\n",
    "from sklearn import preprocessing\n",
    "from sklearn.model_selection import train_test_split, KFold\n",
    "# import xgboost\n",
    "from sklearn.ensemble import RandomForestRegressor \n",
    "# import xgboost as xgb\n",
    "from sklearn.metrics import mean_squared_error\n",
    "from sklearn.neighbors import KNeighborsRegressor\n",
    "from sklearn.metrics import r2_score\n",
    "from sklearn.model_selection import cross_validate\n",
    "from sklearn.preprocessing import minmax_scale,StandardScaler\n",
    "# from tqdm import tqdm_notebook"
   ]
  },
  {
   "cell_type": "code",
   "execution_count": 3,
   "metadata": {},
   "outputs": [],
   "source": [
    "os.chdir(r\"../Data/London\")"
   ]
  },
  {
   "cell_type": "code",
   "execution_count": 4,
   "metadata": {},
   "outputs": [],
   "source": [
    "df = pd.read_csv('AA_LONDON_DATA_VER3_DATA_TABLE.csv')"
   ]
  },
  {
   "cell_type": "code",
   "execution_count": 5,
   "metadata": {},
   "outputs": [],
   "source": [
    "camdf = pd.read_csv('AA_LONDON_CAMERA_DATA_TABLE.csv')"
   ]
  },
  {
   "cell_type": "code",
   "execution_count": 6,
   "metadata": {},
   "outputs": [],
   "source": [
    "os.chdir(r\"./spatio_temporal_London/\")"
   ]
  },
  {
   "cell_type": "code",
   "execution_count": 7,
   "metadata": {},
   "outputs": [
    {
     "data": {
      "text/html": [
       "<div>\n",
       "<style scoped>\n",
       "    .dataframe tbody tr th:only-of-type {\n",
       "        vertical-align: middle;\n",
       "    }\n",
       "\n",
       "    .dataframe tbody tr th {\n",
       "        vertical-align: top;\n",
       "    }\n",
       "\n",
       "    .dataframe thead th {\n",
       "        text-align: right;\n",
       "    }\n",
       "</style>\n",
       "<table border=\"1\" class=\"dataframe\">\n",
       "  <thead>\n",
       "    <tr style=\"text-align: right;\">\n",
       "      <th></th>\n",
       "      <th>S_NO</th>\n",
       "      <th>CAMERA_NAME</th>\n",
       "      <th>DOWNLOAD_DATE</th>\n",
       "      <th>IMG_NAME</th>\n",
       "      <th>DENSITY_VALUE</th>\n",
       "      <th>DL_TIMESTAMP_LOCAL</th>\n",
       "      <th>COMMENTS</th>\n",
       "      <th>CAMERA_ID</th>\n",
       "      <th>DL_TIMESTAMP_CITY</th>\n",
       "      <th>SELECT_FLAG</th>\n",
       "      <th>RED</th>\n",
       "      <th>GREEN</th>\n",
       "      <th>BLUE</th>\n",
       "    </tr>\n",
       "  </thead>\n",
       "  <tbody>\n",
       "    <tr>\n",
       "      <th>0</th>\n",
       "      <td>896208</td>\n",
       "      <td>549744</td>\n",
       "      <td>22-NOV-10</td>\n",
       "      <td>1290433594</td>\n",
       "      <td>16109.680</td>\n",
       "      <td>22-NOV-10 02.46.34.000000000 PM</td>\n",
       "      <td>NaN</td>\n",
       "      <td>182</td>\n",
       "      <td>22-NOV-10 01.46.34.000000000 PM</td>\n",
       "      <td>1</td>\n",
       "      <td>63621.507812</td>\n",
       "      <td>65366.414062</td>\n",
       "      <td>64108.488281</td>\n",
       "    </tr>\n",
       "    <tr>\n",
       "      <th>1</th>\n",
       "      <td>896209</td>\n",
       "      <td>549744</td>\n",
       "      <td>22-NOV-10</td>\n",
       "      <td>1290434044</td>\n",
       "      <td>11318.897</td>\n",
       "      <td>22-NOV-10 02.54.04.000000000 PM</td>\n",
       "      <td>NaN</td>\n",
       "      <td>182</td>\n",
       "      <td>22-NOV-10 01.54.04.000000000 PM</td>\n",
       "      <td>1</td>\n",
       "      <td>64379.992188</td>\n",
       "      <td>66520.500000</td>\n",
       "      <td>65209.515625</td>\n",
       "    </tr>\n",
       "  </tbody>\n",
       "</table>\n",
       "</div>"
      ],
      "text/plain": [
       "     S_NO  CAMERA_NAME DOWNLOAD_DATE    IMG_NAME  DENSITY_VALUE  \\\n",
       "0  896208       549744     22-NOV-10  1290433594      16109.680   \n",
       "1  896209       549744     22-NOV-10  1290434044      11318.897   \n",
       "\n",
       "                DL_TIMESTAMP_LOCAL  COMMENTS  CAMERA_ID  \\\n",
       "0  22-NOV-10 02.46.34.000000000 PM       NaN        182   \n",
       "1  22-NOV-10 02.54.04.000000000 PM       NaN        182   \n",
       "\n",
       "                 DL_TIMESTAMP_CITY  SELECT_FLAG           RED         GREEN  \\\n",
       "0  22-NOV-10 01.46.34.000000000 PM            1  63621.507812  65366.414062   \n",
       "1  22-NOV-10 01.54.04.000000000 PM            1  64379.992188  66520.500000   \n",
       "\n",
       "           BLUE  \n",
       "0  64108.488281  \n",
       "1  65209.515625  "
      ]
     },
     "execution_count": 7,
     "metadata": {},
     "output_type": "execute_result"
    }
   ],
   "source": [
    "df[:2]"
   ]
  },
  {
   "cell_type": "code",
   "execution_count": 8,
   "metadata": {},
   "outputs": [
    {
     "data": {
      "text/html": [
       "<div>\n",
       "<style scoped>\n",
       "    .dataframe tbody tr th:only-of-type {\n",
       "        vertical-align: middle;\n",
       "    }\n",
       "\n",
       "    .dataframe tbody tr th {\n",
       "        vertical-align: top;\n",
       "    }\n",
       "\n",
       "    .dataframe thead th {\n",
       "        text-align: right;\n",
       "    }\n",
       "</style>\n",
       "<table border=\"1\" class=\"dataframe\">\n",
       "  <thead>\n",
       "    <tr style=\"text-align: right;\">\n",
       "      <th></th>\n",
       "      <th>CAMERA_ID</th>\n",
       "      <th>CAMERA_NAME</th>\n",
       "      <th>CAMERA_DESC</th>\n",
       "      <th>EASTING</th>\n",
       "      <th>NORTHING</th>\n",
       "      <th>GEO_LAT</th>\n",
       "      <th>GEO_LON</th>\n",
       "      <th>CONGESTION_ZONE</th>\n",
       "    </tr>\n",
       "  </thead>\n",
       "  <tbody>\n",
       "    <tr>\n",
       "      <th>0</th>\n",
       "      <td>105</td>\n",
       "      <td>546600</td>\n",
       "      <td>A4 Cromwell Road by Earls Court Road</td>\n",
       "      <td>525351.39</td>\n",
       "      <td>178843.06</td>\n",
       "      <td>51.494572</td>\n",
       "      <td>-0.195707</td>\n",
       "      <td>0</td>\n",
       "    </tr>\n",
       "    <tr>\n",
       "      <th>1</th>\n",
       "      <td>106</td>\n",
       "      <td>546610</td>\n",
       "      <td>A4 Great West Road By Macbeth Street</td>\n",
       "      <td>522781.00</td>\n",
       "      <td>178369.00</td>\n",
       "      <td>51.490875</td>\n",
       "      <td>-0.232884</td>\n",
       "      <td>0</td>\n",
       "    </tr>\n",
       "  </tbody>\n",
       "</table>\n",
       "</div>"
      ],
      "text/plain": [
       "   CAMERA_ID  CAMERA_NAME                           CAMERA_DESC    EASTING  \\\n",
       "0        105       546600  A4 Cromwell Road by Earls Court Road  525351.39   \n",
       "1        106       546610  A4 Great West Road By Macbeth Street  522781.00   \n",
       "\n",
       "    NORTHING    GEO_LAT   GEO_LON  CONGESTION_ZONE  \n",
       "0  178843.06  51.494572 -0.195707                0  \n",
       "1  178369.00  51.490875 -0.232884                0  "
      ]
     },
     "execution_count": 8,
     "metadata": {},
     "output_type": "execute_result"
    }
   ],
   "source": [
    "camdf[:2]"
   ]
  },
  {
   "cell_type": "code",
   "execution_count": 9,
   "metadata": {},
   "outputs": [],
   "source": [
    "mergedf = df.merge(camdf,left_on=\"CAMERA_ID\",right_on=\"CAMERA_ID\")\n",
    "\n",
    "tdf = mergedf[[\"CAMERA_ID\",\"GEO_LON\",\"GEO_LAT\",\"DL_TIMESTAMP_CITY\",\"DENSITY_VALUE\"]].copy()\n",
    "\n",
    "tdf['TIMESTAMP']  = pd.to_datetime(tdf['DL_TIMESTAMP_CITY'],format=\"%d-%b-%y %I.%M.%S.000000000 %p\")\n",
    "\n",
    "try:\n",
    "    tdf.drop(\"DL_TIMESTAMP_CITY\",axis=1,inplace=True)\n",
    "except:\n",
    "    print(\"column doesn't exist\")"
   ]
  },
  {
   "cell_type": "code",
   "execution_count": 10,
   "metadata": {},
   "outputs": [
    {
     "data": {
      "text/html": [
       "<div>\n",
       "<style scoped>\n",
       "    .dataframe tbody tr th:only-of-type {\n",
       "        vertical-align: middle;\n",
       "    }\n",
       "\n",
       "    .dataframe tbody tr th {\n",
       "        vertical-align: top;\n",
       "    }\n",
       "\n",
       "    .dataframe thead th {\n",
       "        text-align: right;\n",
       "    }\n",
       "</style>\n",
       "<table border=\"1\" class=\"dataframe\">\n",
       "  <thead>\n",
       "    <tr style=\"text-align: right;\">\n",
       "      <th></th>\n",
       "      <th>CAMERA_ID</th>\n",
       "      <th>GEO_LON</th>\n",
       "      <th>GEO_LAT</th>\n",
       "      <th>DENSITY_VALUE</th>\n",
       "      <th>TIMESTAMP</th>\n",
       "    </tr>\n",
       "  </thead>\n",
       "  <tbody>\n",
       "    <tr>\n",
       "      <th>0</th>\n",
       "      <td>182</td>\n",
       "      <td>-0.245122</td>\n",
       "      <td>51.616876</td>\n",
       "      <td>16109.680</td>\n",
       "      <td>2010-11-22 13:46:34</td>\n",
       "    </tr>\n",
       "    <tr>\n",
       "      <th>1</th>\n",
       "      <td>182</td>\n",
       "      <td>-0.245122</td>\n",
       "      <td>51.616876</td>\n",
       "      <td>11318.897</td>\n",
       "      <td>2010-11-22 13:54:04</td>\n",
       "    </tr>\n",
       "  </tbody>\n",
       "</table>\n",
       "</div>"
      ],
      "text/plain": [
       "   CAMERA_ID   GEO_LON    GEO_LAT  DENSITY_VALUE           TIMESTAMP\n",
       "0        182 -0.245122  51.616876      16109.680 2010-11-22 13:46:34\n",
       "1        182 -0.245122  51.616876      11318.897 2010-11-22 13:54:04"
      ]
     },
     "execution_count": 10,
     "metadata": {},
     "output_type": "execute_result"
    }
   ],
   "source": [
    "tdf[:2]"
   ]
  },
  {
   "cell_type": "code",
   "execution_count": 11,
   "metadata": {},
   "outputs": [],
   "source": [
    "tdf[\"TIME_EPOCH\"] = (tdf.TIMESTAMP.astype(np.int64) // 10**9)"
   ]
  },
  {
   "cell_type": "code",
   "execution_count": 12,
   "metadata": {},
   "outputs": [],
   "source": [
    "tdf[\"TIME_EPOCH\"] -= tdf.TIME_EPOCH.min()"
   ]
  },
  {
   "cell_type": "code",
   "execution_count": 13,
   "metadata": {},
   "outputs": [
    {
     "data": {
      "text/plain": [
       "count                  896246\n",
       "unique                 401908\n",
       "top       2010-10-24 10:17:03\n",
       "freq                      163\n",
       "first     2010-10-11 09:55:01\n",
       "last      2010-11-22 18:59:42\n",
       "Name: TIMESTAMP, dtype: object"
      ]
     },
     "execution_count": 13,
     "metadata": {},
     "output_type": "execute_result"
    }
   ],
   "source": [
    "tdf.TIMESTAMP.describe()"
   ]
  },
  {
   "cell_type": "code",
   "execution_count": 14,
   "metadata": {},
   "outputs": [],
   "source": [
    "tdf[\"TIME_BUCKET\"] = tdf.TIME_EPOCH//600"
   ]
  },
  {
   "cell_type": "code",
   "execution_count": 15,
   "metadata": {},
   "outputs": [
    {
     "data": {
      "text/html": [
       "<div>\n",
       "<style scoped>\n",
       "    .dataframe tbody tr th:only-of-type {\n",
       "        vertical-align: middle;\n",
       "    }\n",
       "\n",
       "    .dataframe tbody tr th {\n",
       "        vertical-align: top;\n",
       "    }\n",
       "\n",
       "    .dataframe thead th {\n",
       "        text-align: right;\n",
       "    }\n",
       "</style>\n",
       "<table border=\"1\" class=\"dataframe\">\n",
       "  <thead>\n",
       "    <tr style=\"text-align: right;\">\n",
       "      <th></th>\n",
       "      <th>CAMERA_ID</th>\n",
       "      <th>GEO_LON</th>\n",
       "      <th>GEO_LAT</th>\n",
       "      <th>DENSITY_VALUE</th>\n",
       "      <th>TIMESTAMP</th>\n",
       "      <th>TIME_EPOCH</th>\n",
       "      <th>TIME_BUCKET</th>\n",
       "    </tr>\n",
       "  </thead>\n",
       "  <tbody>\n",
       "    <tr>\n",
       "      <th>0</th>\n",
       "      <td>182</td>\n",
       "      <td>-0.245122</td>\n",
       "      <td>51.616876</td>\n",
       "      <td>16109.680</td>\n",
       "      <td>2010-11-22 13:46:34</td>\n",
       "      <td>3642693</td>\n",
       "      <td>6071</td>\n",
       "    </tr>\n",
       "    <tr>\n",
       "      <th>1</th>\n",
       "      <td>182</td>\n",
       "      <td>-0.245122</td>\n",
       "      <td>51.616876</td>\n",
       "      <td>11318.897</td>\n",
       "      <td>2010-11-22 13:54:04</td>\n",
       "      <td>3643143</td>\n",
       "      <td>6071</td>\n",
       "    </tr>\n",
       "  </tbody>\n",
       "</table>\n",
       "</div>"
      ],
      "text/plain": [
       "   CAMERA_ID   GEO_LON    GEO_LAT  DENSITY_VALUE           TIMESTAMP  \\\n",
       "0        182 -0.245122  51.616876      16109.680 2010-11-22 13:46:34   \n",
       "1        182 -0.245122  51.616876      11318.897 2010-11-22 13:54:04   \n",
       "\n",
       "   TIME_EPOCH  TIME_BUCKET  \n",
       "0     3642693         6071  \n",
       "1     3643143         6071  "
      ]
     },
     "execution_count": 15,
     "metadata": {},
     "output_type": "execute_result"
    }
   ],
   "source": [
    "tdf[:2]"
   ]
  },
  {
   "cell_type": "code",
   "execution_count": null,
   "metadata": {},
   "outputs": [],
   "source": []
  },
  {
   "cell_type": "code",
   "execution_count": 16,
   "metadata": {},
   "outputs": [],
   "source": [
    "yscaler = StandardScaler()"
   ]
  },
  {
   "cell_type": "code",
   "execution_count": 17,
   "metadata": {},
   "outputs": [
    {
     "data": {
      "text/plain": [
       "StandardScaler(copy=True, with_mean=True, with_std=True)"
      ]
     },
     "execution_count": 17,
     "metadata": {},
     "output_type": "execute_result"
    }
   ],
   "source": [
    "yscaler.fit(tdf[\"DENSITY_VALUE\"].values.reshape((-1,1)))"
   ]
  },
  {
   "cell_type": "code",
   "execution_count": 18,
   "metadata": {},
   "outputs": [],
   "source": [
    "tdf.loc[:,\"SCALED_DENSITY_VALUE\"] = yscaler.transform(tdf[\"DENSITY_VALUE\"].values.reshape((-1,1)))"
   ]
  },
  {
   "cell_type": "code",
   "execution_count": 19,
   "metadata": {},
   "outputs": [
    {
     "data": {
      "text/html": [
       "<div>\n",
       "<style scoped>\n",
       "    .dataframe tbody tr th:only-of-type {\n",
       "        vertical-align: middle;\n",
       "    }\n",
       "\n",
       "    .dataframe tbody tr th {\n",
       "        vertical-align: top;\n",
       "    }\n",
       "\n",
       "    .dataframe thead th {\n",
       "        text-align: right;\n",
       "    }\n",
       "</style>\n",
       "<table border=\"1\" class=\"dataframe\">\n",
       "  <thead>\n",
       "    <tr style=\"text-align: right;\">\n",
       "      <th></th>\n",
       "      <th>CAMERA_ID</th>\n",
       "      <th>GEO_LON</th>\n",
       "      <th>GEO_LAT</th>\n",
       "      <th>DENSITY_VALUE</th>\n",
       "      <th>TIMESTAMP</th>\n",
       "      <th>TIME_EPOCH</th>\n",
       "      <th>TIME_BUCKET</th>\n",
       "      <th>SCALED_DENSITY_VALUE</th>\n",
       "    </tr>\n",
       "  </thead>\n",
       "  <tbody>\n",
       "    <tr>\n",
       "      <th>0</th>\n",
       "      <td>182</td>\n",
       "      <td>-0.245122</td>\n",
       "      <td>51.616876</td>\n",
       "      <td>16109.680</td>\n",
       "      <td>2010-11-22 13:46:34</td>\n",
       "      <td>3642693</td>\n",
       "      <td>6071</td>\n",
       "      <td>-0.459432</td>\n",
       "    </tr>\n",
       "    <tr>\n",
       "      <th>1</th>\n",
       "      <td>182</td>\n",
       "      <td>-0.245122</td>\n",
       "      <td>51.616876</td>\n",
       "      <td>11318.897</td>\n",
       "      <td>2010-11-22 13:54:04</td>\n",
       "      <td>3643143</td>\n",
       "      <td>6071</td>\n",
       "      <td>-0.906670</td>\n",
       "    </tr>\n",
       "  </tbody>\n",
       "</table>\n",
       "</div>"
      ],
      "text/plain": [
       "   CAMERA_ID   GEO_LON    GEO_LAT  DENSITY_VALUE           TIMESTAMP  \\\n",
       "0        182 -0.245122  51.616876      16109.680 2010-11-22 13:46:34   \n",
       "1        182 -0.245122  51.616876      11318.897 2010-11-22 13:54:04   \n",
       "\n",
       "   TIME_EPOCH  TIME_BUCKET  SCALED_DENSITY_VALUE  \n",
       "0     3642693         6071             -0.459432  \n",
       "1     3643143         6071             -0.906670  "
      ]
     },
     "execution_count": 19,
     "metadata": {},
     "output_type": "execute_result"
    }
   ],
   "source": [
    "tdf[:2]"
   ]
  },
  {
   "cell_type": "code",
   "execution_count": 20,
   "metadata": {},
   "outputs": [],
   "source": [
    "Xfeatures = [\"GEO_LON\",\"GEO_LAT\"]\n",
    "Tfeature = \"TIME_EPOCH\"\n",
    "target = \"SCALED_DENSITY_VALUE\""
   ]
  },
  {
   "cell_type": "code",
   "execution_count": 21,
   "metadata": {},
   "outputs": [],
   "source": [
    "from pandas.plotting import autocorrelation_plot"
   ]
  },
  {
   "cell_type": "code",
   "execution_count": 22,
   "metadata": {},
   "outputs": [],
   "source": [
    "tdf_10min = tdf.groupby([\"CAMERA_ID\",pd.Grouper(key=\"TIMESTAMP\",freq='10min')]).mean()"
   ]
  },
  {
   "cell_type": "code",
   "execution_count": 23,
   "metadata": {},
   "outputs": [],
   "source": [
    "tdf_1min = tdf.groupby([\"CAMERA_ID\",pd.Grouper(key=\"TIMESTAMP\",freq='1min')]).mean()"
   ]
  },
  {
   "cell_type": "code",
   "execution_count": 24,
   "metadata": {},
   "outputs": [],
   "source": [
    "tdf_30min = tdf.groupby([\"CAMERA_ID\",pd.Grouper(key=\"TIMESTAMP\",freq='30min')]).mean()"
   ]
  },
  {
   "cell_type": "code",
   "execution_count": 25,
   "metadata": {},
   "outputs": [],
   "source": [
    "tdf_1h = tdf.groupby([\"CAMERA_ID\",pd.Grouper(key=\"TIMESTAMP\",freq='1H')]).mean()"
   ]
  },
  {
   "cell_type": "code",
   "execution_count": 26,
   "metadata": {},
   "outputs": [],
   "source": [
    "tdf_10min.TIME_EPOCH = tdf_10min.TIME_EPOCH.astype(np.int64)\n",
    "tdf_10min.TIME_BUCKET = tdf_10min.TIME_BUCKET.astype(np.int64)"
   ]
  },
  {
   "cell_type": "code",
   "execution_count": 27,
   "metadata": {},
   "outputs": [],
   "source": [
    "tdf_1min.TIME_EPOCH = tdf_1min.TIME_EPOCH.astype(np.int64)\n",
    "tdf_1min.TIME_BUCKET = tdf_1min.TIME_BUCKET.astype(np.int64)"
   ]
  },
  {
   "cell_type": "code",
   "execution_count": 28,
   "metadata": {},
   "outputs": [],
   "source": [
    "tdf_30min.TIME_EPOCH = tdf_30min.TIME_EPOCH.astype(np.int64)\n",
    "tdf_30min.TIME_BUCKET = tdf_30min.TIME_BUCKET.astype(np.int64)"
   ]
  },
  {
   "cell_type": "code",
   "execution_count": 29,
   "metadata": {},
   "outputs": [],
   "source": [
    "tdf_1h.TIME_EPOCH = tdf_1h.TIME_EPOCH.astype(np.int64)\n",
    "tdf_1h.TIME_BUCKET = tdf_1h.TIME_BUCKET.astype(np.int64)"
   ]
  },
  {
   "cell_type": "code",
   "execution_count": 30,
   "metadata": {},
   "outputs": [
    {
     "data": {
      "text/html": [
       "<div>\n",
       "<style scoped>\n",
       "    .dataframe tbody tr th:only-of-type {\n",
       "        vertical-align: middle;\n",
       "    }\n",
       "\n",
       "    .dataframe tbody tr th {\n",
       "        vertical-align: top;\n",
       "    }\n",
       "\n",
       "    .dataframe thead th {\n",
       "        text-align: right;\n",
       "    }\n",
       "</style>\n",
       "<table border=\"1\" class=\"dataframe\">\n",
       "  <thead>\n",
       "    <tr style=\"text-align: right;\">\n",
       "      <th></th>\n",
       "      <th></th>\n",
       "      <th>GEO_LON</th>\n",
       "      <th>GEO_LAT</th>\n",
       "      <th>DENSITY_VALUE</th>\n",
       "      <th>TIME_EPOCH</th>\n",
       "      <th>TIME_BUCKET</th>\n",
       "      <th>SCALED_DENSITY_VALUE</th>\n",
       "    </tr>\n",
       "    <tr>\n",
       "      <th>CAMERA_ID</th>\n",
       "      <th>TIMESTAMP</th>\n",
       "      <th></th>\n",
       "      <th></th>\n",
       "      <th></th>\n",
       "      <th></th>\n",
       "      <th></th>\n",
       "      <th></th>\n",
       "    </tr>\n",
       "  </thead>\n",
       "  <tbody>\n",
       "    <tr>\n",
       "      <th rowspan=\"5\" valign=\"top\">1</th>\n",
       "      <th>2010-10-11 09:50:00</th>\n",
       "      <td>-0.218065</td>\n",
       "      <td>51.481782</td>\n",
       "      <td>51667.9180</td>\n",
       "      <td>90</td>\n",
       "      <td>0</td>\n",
       "      <td>2.860066</td>\n",
       "    </tr>\n",
       "    <tr>\n",
       "      <th>2010-10-11 10:00:00</th>\n",
       "      <td>-0.218065</td>\n",
       "      <td>51.481782</td>\n",
       "      <td>39100.7650</td>\n",
       "      <td>720</td>\n",
       "      <td>1</td>\n",
       "      <td>1.686874</td>\n",
       "    </tr>\n",
       "    <tr>\n",
       "      <th>2010-10-11 10:10:00</th>\n",
       "      <td>-0.218065</td>\n",
       "      <td>51.481782</td>\n",
       "      <td>45671.0210</td>\n",
       "      <td>1440</td>\n",
       "      <td>2</td>\n",
       "      <td>2.300232</td>\n",
       "    </tr>\n",
       "    <tr>\n",
       "      <th>2010-10-11 10:20:00</th>\n",
       "      <td>-0.218065</td>\n",
       "      <td>51.481782</td>\n",
       "      <td>45811.2860</td>\n",
       "      <td>1710</td>\n",
       "      <td>2</td>\n",
       "      <td>2.313327</td>\n",
       "    </tr>\n",
       "    <tr>\n",
       "      <th>2010-10-11 10:30:00</th>\n",
       "      <td>-0.218065</td>\n",
       "      <td>51.481782</td>\n",
       "      <td>49308.1445</td>\n",
       "      <td>2340</td>\n",
       "      <td>3</td>\n",
       "      <td>2.639772</td>\n",
       "    </tr>\n",
       "  </tbody>\n",
       "</table>\n",
       "</div>"
      ],
      "text/plain": [
       "                                GEO_LON    GEO_LAT  DENSITY_VALUE  TIME_EPOCH  \\\n",
       "CAMERA_ID TIMESTAMP                                                             \n",
       "1         2010-10-11 09:50:00 -0.218065  51.481782     51667.9180          90   \n",
       "          2010-10-11 10:00:00 -0.218065  51.481782     39100.7650         720   \n",
       "          2010-10-11 10:10:00 -0.218065  51.481782     45671.0210        1440   \n",
       "          2010-10-11 10:20:00 -0.218065  51.481782     45811.2860        1710   \n",
       "          2010-10-11 10:30:00 -0.218065  51.481782     49308.1445        2340   \n",
       "\n",
       "                               TIME_BUCKET  SCALED_DENSITY_VALUE  \n",
       "CAMERA_ID TIMESTAMP                                               \n",
       "1         2010-10-11 09:50:00            0              2.860066  \n",
       "          2010-10-11 10:00:00            1              1.686874  \n",
       "          2010-10-11 10:10:00            2              2.300232  \n",
       "          2010-10-11 10:20:00            2              2.313327  \n",
       "          2010-10-11 10:30:00            3              2.639772  "
      ]
     },
     "execution_count": 30,
     "metadata": {},
     "output_type": "execute_result"
    }
   ],
   "source": [
    "tdf_10min[:5]"
   ]
  },
  {
   "cell_type": "code",
   "execution_count": 31,
   "metadata": {},
   "outputs": [],
   "source": [
    "tdf_10min.to_csv(\"tdf_10min.csv\")"
   ]
  },
  {
   "cell_type": "code",
   "execution_count": 32,
   "metadata": {},
   "outputs": [],
   "source": [
    "tdf_30min.to_csv(\"tdf_30min.csv\")"
   ]
  },
  {
   "cell_type": "code",
   "execution_count": 33,
   "metadata": {},
   "outputs": [],
   "source": [
    "tdf_1h.to_csv(\"tdf_1h.csv\")"
   ]
  },
  {
   "cell_type": "code",
   "execution_count": 30,
   "metadata": {},
   "outputs": [],
   "source": [
    "from statsmodels.tsa.arima_model import ARIMA\n",
    "from statsmodels.tsa.seasonal import seasonal_decompose"
   ]
  },
  {
   "cell_type": "code",
   "execution_count": 31,
   "metadata": {},
   "outputs": [],
   "source": [
    "def objfunc(order, exog, endog):\n",
    "    try:\n",
    "        fit = ARIMA(endog, order, exog).fit()\n",
    "        return fit.aic\n",
    "    except Exception as e:\n",
    "#         print(\"EXCEPTION: \",e)\n",
    "        return 1e8\n",
    "\n",
    "from scipy.optimize import brute\n",
    "grid = (slice(3, 8, 1), slice(0, 1, 1), slice(3, 8, 1))"
   ]
  },
  {
   "cell_type": "code",
   "execution_count": 32,
   "metadata": {},
   "outputs": [],
   "source": [
    "import warnings; warnings.simplefilter('ignore')"
   ]
  },
  {
   "cell_type": "code",
   "execution_count": 33,
   "metadata": {},
   "outputs": [],
   "source": [
    "from sklearn.model_selection import TimeSeriesSplit"
   ]
  },
  {
   "cell_type": "code",
   "execution_count": 34,
   "metadata": {},
   "outputs": [],
   "source": [
    "tsv = TimeSeriesSplit(n_splits=4)"
   ]
  },
  {
   "cell_type": "code",
   "execution_count": 35,
   "metadata": {},
   "outputs": [],
   "source": [
    "hyper_param_per_camera = {}\n",
    "rmses_per_camera = {}"
   ]
  },
  {
   "cell_type": "code",
   "execution_count": null,
   "metadata": {},
   "outputs": [],
   "source": [
    "for camera_id, group in tqdm_notebook(tdf_10min.groupby(\"CAMERA_ID\")):\n",
    "    \n",
    "#     print(camera_id)\n",
    "#     print(group)\n",
    "    group = group.reset_index(level=0)\n",
    "    \n",
    "    ts = pd.Series(data=group.SCALED_DENSITY_VALUE)\n",
    "#     ax = ts.plot()\n",
    "    \n",
    "#     autocorrelation_plot(ts)\n",
    "#     print(ts)\n",
    "    \n",
    "    orders = brute(objfunc, grid, args=(None, ts), finish=None)\n",
    "    orders = [int(t) for t in orders]\n",
    "    hyper_param_per_camera[camera_id] = orders\n",
    "#     model = ARIMA(ts,[int(t) for t in orders])\n",
    "    \n",
    "#     try:\n",
    "#         mses = []\n",
    "\n",
    "#         for train_index, test_index in tsv.split(ts):\n",
    "#             model = ARIMA(ts[train_index],orders)\n",
    "#             model_fit = model.fit(disp=0)\n",
    "#     #         model_fit.predict(test_index[0],test_index[len(test_index)-1])\n",
    "#             fc,_,_ = model_fit.forecast(test_index[len(test_index)-1] - test_index[0] + 1)\n",
    "#             mses.append(mean_squared_error(ts[test_index],fc))\n",
    "\n",
    "#         mses_per_camera[camera_id] = np.mean(mses)\n",
    "#     except Exception as e:\n",
    "#         print(\"EXCEPTION IN MSE: \",e)\n",
    "    \n",
    "    \n",
    "        \n",
    "#     fig = model_fit.plot_predict(2,len(ts)+100)\n",
    "#     fig.set_size_inches((16,10))\n",
    "#     ax1 = fig.axes[0]\n",
    "#     print(model_fit.mle_retvals)\n",
    "#     plt.show()\n",
    "\n",
    "#     print(model_fit.summary())\n",
    "    # plot residual errors\n",
    "#     residuals = pd.DataFrame(model_fit.resid)\n",
    "#     residuals.plot()\n",
    "#     plt.show()\n",
    "#     residuals.plot(kind='kde')\n",
    "#     plt.show()\n",
    "#     print(residuals.describe())\n",
    "#     result = seasonal_decompose(ts, model='additive',freq=6*24)\n",
    "    \n",
    "#     fig = result.plot()\n",
    "#     fig.set_size_inches((16,10))\n",
    "#     plt.savefig('per_camera_seasonal_decomp/'+str(camera_id), bbox_inches='tight')\n",
    "#     plt.close()\n",
    "\n",
    "#     break"
   ]
  },
  {
   "cell_type": "code",
   "execution_count": null,
   "metadata": {},
   "outputs": [],
   "source": [
    "mses_per_camera"
   ]
  },
  {
   "cell_type": "code",
   "execution_count": 35,
   "metadata": {},
   "outputs": [],
   "source": [
    "import pickle"
   ]
  },
  {
   "cell_type": "code",
   "execution_count": null,
   "metadata": {},
   "outputs": [],
   "source": [
    "# pickle.dump(hyper_param_per_camera,open(\"arima_params_per_cameras.pickle\",'wb'))"
   ]
  },
  {
   "cell_type": "code",
   "execution_count": null,
   "metadata": {},
   "outputs": [],
   "source": [
    "hyper_param_per_camera = pickle.load(open(\"arima_params_per_cameras.pickle\",'rb'))"
   ]
  },
  {
   "cell_type": "markdown",
   "metadata": {},
   "source": [
    "#### TODO: STATIONARY TEST"
   ]
  },
  {
   "cell_type": "code",
   "execution_count": null,
   "metadata": {},
   "outputs": [],
   "source": [
    "for camera_id, group in tqdm_notebook(tdf_10min.groupby(\"CAMERA_ID\")):\n",
    "    try:\n",
    "        mses = []\n",
    "        group = group.reset_index(level=0)\n",
    "        ts = pd.Series(data=group.SCALED_DENSITY_VALUE)\n",
    "        for train_index, test_index in tsv.split(ts):\n",
    "            model = ARIMA(ts[train_index],(5,1,3))\n",
    "            model_fit = model.fit(disp=0)\n",
    "    #         model_fit.predict(test_index[0],test_index[len(test_index)-1])\n",
    "            fc,_,_ = model_fit.forecast(test_index[len(test_index)-1] - test_index[0] + 1)\n",
    "            mses.append(np.sqrt(mean_squared_error(ts[test_index],fc)))\n",
    "        \n",
    "        mses_per_camera[camera_id] = np.mean(mses)\n",
    "        break\n",
    "    except Exception as e:\n",
    "        print(type(e))\n",
    "        print(\"EXCEPTION IN MSE: \",e)"
   ]
  },
  {
   "cell_type": "code",
   "execution_count": null,
   "metadata": {},
   "outputs": [],
   "source": [
    "mses_per_camera"
   ]
  },
  {
   "cell_type": "code",
   "execution_count": 36,
   "metadata": {},
   "outputs": [],
   "source": [
    "from pmdarima.arima import auto_arima\n",
    "import pmdarima as pmd"
   ]
  },
  {
   "cell_type": "code",
   "execution_count": 39,
   "metadata": {},
   "outputs": [],
   "source": [
    "rmses_per_camera = {}"
   ]
  },
  {
   "cell_type": "code",
   "execution_count": 40,
   "metadata": {},
   "outputs": [],
   "source": [
    "import gc"
   ]
  },
  {
   "cell_type": "markdown",
   "metadata": {},
   "source": [
    "#### TODO: TIMESERIES PLOTS + ACF PLOTS TO GO INSIDE THE PAPER!"
   ]
  },
  {
   "cell_type": "code",
   "execution_count": 37,
   "metadata": {},
   "outputs": [],
   "source": [
    "rmse_per_cam_per_halfhour_df = pd.DataFrame(columns=[\"camera_id\",\"rmse_f1\",\"rmse_f2\",\"rmse_f3\",\"rmse_f4\"])"
   ]
  },
  {
   "cell_type": "code",
   "execution_count": 42,
   "metadata": {},
   "outputs": [
    {
     "data": {
      "text/html": [
       "<div>\n",
       "<style scoped>\n",
       "    .dataframe tbody tr th:only-of-type {\n",
       "        vertical-align: middle;\n",
       "    }\n",
       "\n",
       "    .dataframe tbody tr th {\n",
       "        vertical-align: top;\n",
       "    }\n",
       "\n",
       "    .dataframe thead th {\n",
       "        text-align: right;\n",
       "    }\n",
       "</style>\n",
       "<table border=\"1\" class=\"dataframe\">\n",
       "  <thead>\n",
       "    <tr style=\"text-align: right;\">\n",
       "      <th></th>\n",
       "      <th>camera_id</th>\n",
       "      <th>rmse_f1</th>\n",
       "      <th>rmse_f2</th>\n",
       "      <th>rmse_f3</th>\n",
       "      <th>rmse_f4</th>\n",
       "    </tr>\n",
       "  </thead>\n",
       "  <tbody>\n",
       "    <tr>\n",
       "      <th>0</th>\n",
       "      <td>1.0</td>\n",
       "      <td>0.773365</td>\n",
       "      <td>0.788429</td>\n",
       "      <td>0.995006</td>\n",
       "      <td>0.948064</td>\n",
       "    </tr>\n",
       "  </tbody>\n",
       "</table>\n",
       "</div>"
      ],
      "text/plain": [
       "   camera_id   rmse_f1   rmse_f2   rmse_f3   rmse_f4\n",
       "0        1.0  0.773365  0.788429  0.995006  0.948064"
      ]
     },
     "execution_count": 42,
     "metadata": {},
     "output_type": "execute_result"
    }
   ],
   "source": [
    "rmse_per_cam_per_halfhour_df"
   ]
  },
  {
   "cell_type": "code",
   "execution_count": 67,
   "metadata": {},
   "outputs": [
    {
     "data": {
      "text/html": [
       "<div>\n",
       "<style scoped>\n",
       "    .dataframe tbody tr th:only-of-type {\n",
       "        vertical-align: middle;\n",
       "    }\n",
       "\n",
       "    .dataframe tbody tr th {\n",
       "        vertical-align: top;\n",
       "    }\n",
       "\n",
       "    .dataframe thead th {\n",
       "        text-align: right;\n",
       "    }\n",
       "</style>\n",
       "<table border=\"1\" class=\"dataframe\">\n",
       "  <thead>\n",
       "    <tr style=\"text-align: right;\">\n",
       "      <th></th>\n",
       "      <th>camera_id</th>\n",
       "      <th>rmse_f1</th>\n",
       "      <th>rmse_f2</th>\n",
       "      <th>rmse_f3</th>\n",
       "      <th>rmse_f4</th>\n",
       "    </tr>\n",
       "  </thead>\n",
       "  <tbody>\n",
       "    <tr>\n",
       "      <th>0</th>\n",
       "      <td>1.0</td>\n",
       "      <td>1.806932</td>\n",
       "      <td>0.806775</td>\n",
       "      <td>0.990395</td>\n",
       "      <td>0.897335</td>\n",
       "    </tr>\n",
       "  </tbody>\n",
       "</table>\n",
       "</div>"
      ],
      "text/plain": [
       "   camera_id   rmse_f1   rmse_f2   rmse_f3   rmse_f4\n",
       "0        1.0  1.806932  0.806775  0.990395  0.897335"
      ]
     },
     "execution_count": 67,
     "metadata": {},
     "output_type": "execute_result"
    }
   ],
   "source": [
    "rmse_per_cam_per_halfhour_df"
   ]
  },
  {
   "cell_type": "code",
   "execution_count": null,
   "metadata": {},
   "outputs": [],
   "source": []
  },
  {
   "cell_type": "code",
   "execution_count": 65,
   "metadata": {},
   "outputs": [
    {
     "data": {
      "text/plain": [
       "ARIMA(callback=None, disp=0, maxiter=50, method=None, order=(0, 1, 2),\n",
       "   out_of_sample_size=0, scoring='mse', scoring_args={},\n",
       "   seasonal_order=(2, 0, 0, 12), solver='lbfgs', start_params=None,\n",
       "   suppress_warnings=False, transparams=True, trend='c')"
      ]
     },
     "execution_count": 65,
     "metadata": {},
     "output_type": "execute_result"
    }
   ],
   "source": [
    "arima.set_params()"
   ]
  },
  {
   "cell_type": "code",
   "execution_count": 62,
   "metadata": {},
   "outputs": [
    {
     "data": {
      "text/plain": [
       "{'callback': None,\n",
       " 'disp': 0,\n",
       " 'maxiter': 50,\n",
       " 'method': None,\n",
       " 'order': (0, 1, 2),\n",
       " 'out_of_sample_size': 0,\n",
       " 'scoring': 'mse',\n",
       " 'scoring_args': {},\n",
       " 'seasonal_order': (2, 0, 0, 12),\n",
       " 'solver': 'lbfgs',\n",
       " 'start_params': None,\n",
       " 'suppress_warnings': False,\n",
       " 'transparams': True,\n",
       " 'trend': 'c'}"
      ]
     },
     "execution_count": 62,
     "metadata": {},
     "output_type": "execute_result"
    }
   ],
   "source": [
    "arima.get_params()"
   ]
  },
  {
   "cell_type": "markdown",
   "metadata": {},
   "source": [
    "#### Code below with ACF and all that, 24 * 0.5 hour looks like a good period! BECAUSE IT IS 8am to 8pm data??"
   ]
  },
  {
   "cell_type": "code",
   "execution_count": null,
   "metadata": {},
   "outputs": [
    {
     "data": {
      "application/vnd.jupyter.widget-view+json": {
       "model_id": "839b7b556c6942faa5f09e283c49dcab",
       "version_major": 2,
       "version_minor": 0
      },
      "text/plain": [
       "HBox(children=(IntProgress(value=0, max=178), HTML(value='')))"
      ]
     },
     "metadata": {},
     "output_type": "display_data"
    },
    {
     "name": "stderr",
     "output_type": "stream",
     "text": [
      "/home/roozbeh/miniconda3/envs/spatiotemporal/lib/python3.6/site-packages/statsmodels/base/model.py:508: ConvergenceWarning: Maximum Likelihood optimization failed to converge. Check mle_retvals\n",
      "  \"Check mle_retvals\", ConvergenceWarning)\n",
      "/home/roozbeh/miniconda3/envs/spatiotemporal/lib/python3.6/site-packages/statsmodels/base/model.py:508: ConvergenceWarning: Maximum Likelihood optimization failed to converge. Check mle_retvals\n",
      "  \"Check mle_retvals\", ConvergenceWarning)\n",
      "/home/roozbeh/miniconda3/envs/spatiotemporal/lib/python3.6/site-packages/statsmodels/base/model.py:508: ConvergenceWarning: Maximum Likelihood optimization failed to converge. Check mle_retvals\n",
      "  \"Check mle_retvals\", ConvergenceWarning)\n",
      "/home/roozbeh/miniconda3/envs/spatiotemporal/lib/python3.6/site-packages/statsmodels/base/model.py:508: ConvergenceWarning: Maximum Likelihood optimization failed to converge. Check mle_retvals\n",
      "  \"Check mle_retvals\", ConvergenceWarning)\n",
      "/home/roozbeh/miniconda3/envs/spatiotemporal/lib/python3.6/site-packages/statsmodels/base/model.py:508: ConvergenceWarning: Maximum Likelihood optimization failed to converge. Check mle_retvals\n",
      "  \"Check mle_retvals\", ConvergenceWarning)\n",
      "/home/roozbeh/miniconda3/envs/spatiotemporal/lib/python3.6/site-packages/statsmodels/base/model.py:508: ConvergenceWarning: Maximum Likelihood optimization failed to converge. Check mle_retvals\n",
      "  \"Check mle_retvals\", ConvergenceWarning)\n",
      "/home/roozbeh/miniconda3/envs/spatiotemporal/lib/python3.6/site-packages/statsmodels/base/model.py:508: ConvergenceWarning: Maximum Likelihood optimization failed to converge. Check mle_retvals\n",
      "  \"Check mle_retvals\", ConvergenceWarning)\n",
      "/home/roozbeh/miniconda3/envs/spatiotemporal/lib/python3.6/site-packages/statsmodels/base/model.py:508: ConvergenceWarning: Maximum Likelihood optimization failed to converge. Check mle_retvals\n",
      "  \"Check mle_retvals\", ConvergenceWarning)\n",
      "/home/roozbeh/miniconda3/envs/spatiotemporal/lib/python3.6/site-packages/statsmodels/base/model.py:508: ConvergenceWarning: Maximum Likelihood optimization failed to converge. Check mle_retvals\n",
      "  \"Check mle_retvals\", ConvergenceWarning)\n",
      "/home/roozbeh/miniconda3/envs/spatiotemporal/lib/python3.6/site-packages/statsmodels/base/model.py:508: ConvergenceWarning: Maximum Likelihood optimization failed to converge. Check mle_retvals\n",
      "  \"Check mle_retvals\", ConvergenceWarning)\n"
     ]
    }
   ],
   "source": [
    "i = 0\n",
    "models_params = {}\n",
    "for camera_id, group in tqdm_notebook(tdf_30min.groupby(\"CAMERA_ID\")):\n",
    "    try:\n",
    "        rmses = []\n",
    "        group = group.reset_index(level=0)\n",
    "        ts = group.SCALED_DENSITY_VALUE\n",
    "#         plt.figure(figsize=(18,4))\n",
    "#         ts[24:96].plot()\n",
    "#         a = pmd.acf(ts,nlags=48)\n",
    "#         plt.plot(a)\n",
    "#         pmd.autocorr_plot(ts)\n",
    "#         break\n",
    "\n",
    "        models_params[camera_id] = { }\n",
    "        \n",
    "        c = 0\n",
    "        for train_index, test_index in tsv.split(ts):\n",
    "            model = auto_arima(ts[train_index],trace=False,\n",
    "                               error_action='ignore',stepwise=True,\n",
    "                               seasonal=True,m=24,\n",
    "                               max_order=10,start_p=0,start_q=0,start_P=0,start_Q=0,max_p=5,max_q=5,max_P=3,max_Q=3)\n",
    "            models_params[camera_id][c] = model.get_params()\n",
    "            c+=1\n",
    "            fc = model.predict(len(test_index))\n",
    "            rmses.append(np.sqrt(mean_squared_error(ts[test_index],fc)))\n",
    "            del model\n",
    "#             gc.collect()\n",
    "        \n",
    "        rmse_per_cam_per_halfhour_df.loc[i] = [camera_id] + rmses\n",
    "        i+=1\n",
    "        rmse_per_cam_per_halfhour_df.to_csv(\"rmse_per_cam_per_0.5hour_df.csv\",index=False)\n",
    "            \n",
    "    #         model_fit.predict(test_index[0],test_index[len(test_index)-1])\n",
    "#             fc,_,_ = model_fit.forecast(test_index[len(test_index)-1] - test_index[0] + 1)\n",
    "#         \n",
    "#         rmses_per_camera[camera_id] = np.mean(mses)\n",
    "#         break\n",
    "#         with open(\"rmse_per_camera_autoarima.pickle\",'wb') as f:\n",
    "#             pickle.dump(rmses_per_camera,f)\n",
    "    except Exception as e:\n",
    "        print(type(e))\n",
    "        print(\"EXCEPTION IN MSE: \",e)"
   ]
  },
  {
   "cell_type": "code",
   "execution_count": 69,
   "metadata": {},
   "outputs": [
    {
     "data": {
      "text/html": [
       "<div>\n",
       "<style scoped>\n",
       "    .dataframe tbody tr th:only-of-type {\n",
       "        vertical-align: middle;\n",
       "    }\n",
       "\n",
       "    .dataframe tbody tr th {\n",
       "        vertical-align: top;\n",
       "    }\n",
       "\n",
       "    .dataframe thead th {\n",
       "        text-align: right;\n",
       "    }\n",
       "</style>\n",
       "<table border=\"1\" class=\"dataframe\">\n",
       "  <thead>\n",
       "    <tr style=\"text-align: right;\">\n",
       "      <th></th>\n",
       "      <th>camera_id</th>\n",
       "      <th>rmse_f1</th>\n",
       "      <th>rmse_f2</th>\n",
       "      <th>rmse_f3</th>\n",
       "      <th>rmse_f4</th>\n",
       "    </tr>\n",
       "  </thead>\n",
       "  <tbody>\n",
       "    <tr>\n",
       "      <th>0</th>\n",
       "      <td>1.0</td>\n",
       "      <td>1.806932</td>\n",
       "      <td>0.806775</td>\n",
       "      <td>0.990395</td>\n",
       "      <td>0.897335</td>\n",
       "    </tr>\n",
       "    <tr>\n",
       "      <th>1</th>\n",
       "      <td>2.0</td>\n",
       "      <td>0.632751</td>\n",
       "      <td>0.854399</td>\n",
       "      <td>1.166955</td>\n",
       "      <td>1.081298</td>\n",
       "    </tr>\n",
       "    <tr>\n",
       "      <th>2</th>\n",
       "      <td>3.0</td>\n",
       "      <td>5.073446</td>\n",
       "      <td>0.965734</td>\n",
       "      <td>1.472083</td>\n",
       "      <td>1.129966</td>\n",
       "    </tr>\n",
       "    <tr>\n",
       "      <th>3</th>\n",
       "      <td>4.0</td>\n",
       "      <td>1.545618</td>\n",
       "      <td>0.926186</td>\n",
       "      <td>0.780121</td>\n",
       "      <td>0.913740</td>\n",
       "    </tr>\n",
       "    <tr>\n",
       "      <th>4</th>\n",
       "      <td>5.0</td>\n",
       "      <td>0.412304</td>\n",
       "      <td>0.406121</td>\n",
       "      <td>0.515312</td>\n",
       "      <td>0.566010</td>\n",
       "    </tr>\n",
       "    <tr>\n",
       "      <th>5</th>\n",
       "      <td>6.0</td>\n",
       "      <td>0.805937</td>\n",
       "      <td>0.824590</td>\n",
       "      <td>0.892155</td>\n",
       "      <td>0.945944</td>\n",
       "    </tr>\n",
       "    <tr>\n",
       "      <th>6</th>\n",
       "      <td>7.0</td>\n",
       "      <td>0.850959</td>\n",
       "      <td>1.002399</td>\n",
       "      <td>1.170799</td>\n",
       "      <td>1.101635</td>\n",
       "    </tr>\n",
       "    <tr>\n",
       "      <th>7</th>\n",
       "      <td>8.0</td>\n",
       "      <td>1.840012</td>\n",
       "      <td>0.815063</td>\n",
       "      <td>1.046123</td>\n",
       "      <td>1.233248</td>\n",
       "    </tr>\n",
       "    <tr>\n",
       "      <th>8</th>\n",
       "      <td>9.0</td>\n",
       "      <td>0.501829</td>\n",
       "      <td>0.845964</td>\n",
       "      <td>1.022375</td>\n",
       "      <td>1.053157</td>\n",
       "    </tr>\n",
       "    <tr>\n",
       "      <th>9</th>\n",
       "      <td>10.0</td>\n",
       "      <td>1.428021</td>\n",
       "      <td>1.161817</td>\n",
       "      <td>0.869813</td>\n",
       "      <td>0.880010</td>\n",
       "    </tr>\n",
       "    <tr>\n",
       "      <th>10</th>\n",
       "      <td>11.0</td>\n",
       "      <td>1.402447</td>\n",
       "      <td>0.713603</td>\n",
       "      <td>0.896556</td>\n",
       "      <td>0.843535</td>\n",
       "    </tr>\n",
       "    <tr>\n",
       "      <th>11</th>\n",
       "      <td>12.0</td>\n",
       "      <td>1.252946</td>\n",
       "      <td>0.739343</td>\n",
       "      <td>1.222683</td>\n",
       "      <td>1.050847</td>\n",
       "    </tr>\n",
       "    <tr>\n",
       "      <th>12</th>\n",
       "      <td>13.0</td>\n",
       "      <td>0.936770</td>\n",
       "      <td>0.825138</td>\n",
       "      <td>0.895827</td>\n",
       "      <td>0.915419</td>\n",
       "    </tr>\n",
       "    <tr>\n",
       "      <th>13</th>\n",
       "      <td>14.0</td>\n",
       "      <td>3.229178</td>\n",
       "      <td>0.592577</td>\n",
       "      <td>0.839478</td>\n",
       "      <td>1.072090</td>\n",
       "    </tr>\n",
       "    <tr>\n",
       "      <th>14</th>\n",
       "      <td>15.0</td>\n",
       "      <td>0.949697</td>\n",
       "      <td>1.151743</td>\n",
       "      <td>1.122324</td>\n",
       "      <td>0.980235</td>\n",
       "    </tr>\n",
       "    <tr>\n",
       "      <th>15</th>\n",
       "      <td>16.0</td>\n",
       "      <td>1.553539</td>\n",
       "      <td>1.094242</td>\n",
       "      <td>1.362572</td>\n",
       "      <td>1.379932</td>\n",
       "    </tr>\n",
       "    <tr>\n",
       "      <th>16</th>\n",
       "      <td>17.0</td>\n",
       "      <td>0.782557</td>\n",
       "      <td>0.877781</td>\n",
       "      <td>1.043466</td>\n",
       "      <td>0.960073</td>\n",
       "    </tr>\n",
       "    <tr>\n",
       "      <th>17</th>\n",
       "      <td>18.0</td>\n",
       "      <td>0.761962</td>\n",
       "      <td>0.948932</td>\n",
       "      <td>1.044892</td>\n",
       "      <td>1.056697</td>\n",
       "    </tr>\n",
       "    <tr>\n",
       "      <th>18</th>\n",
       "      <td>19.0</td>\n",
       "      <td>1.424114</td>\n",
       "      <td>2.117793</td>\n",
       "      <td>1.202742</td>\n",
       "      <td>2.361348</td>\n",
       "    </tr>\n",
       "    <tr>\n",
       "      <th>19</th>\n",
       "      <td>20.0</td>\n",
       "      <td>0.705682</td>\n",
       "      <td>0.642344</td>\n",
       "      <td>0.851216</td>\n",
       "      <td>0.736125</td>\n",
       "    </tr>\n",
       "    <tr>\n",
       "      <th>20</th>\n",
       "      <td>21.0</td>\n",
       "      <td>0.663719</td>\n",
       "      <td>0.759338</td>\n",
       "      <td>0.833382</td>\n",
       "      <td>0.807560</td>\n",
       "    </tr>\n",
       "    <tr>\n",
       "      <th>21</th>\n",
       "      <td>22.0</td>\n",
       "      <td>1.060102</td>\n",
       "      <td>1.029566</td>\n",
       "      <td>1.091948</td>\n",
       "      <td>0.935476</td>\n",
       "    </tr>\n",
       "    <tr>\n",
       "      <th>22</th>\n",
       "      <td>23.0</td>\n",
       "      <td>0.882879</td>\n",
       "      <td>0.739327</td>\n",
       "      <td>0.879388</td>\n",
       "      <td>0.953191</td>\n",
       "    </tr>\n",
       "    <tr>\n",
       "      <th>23</th>\n",
       "      <td>24.0</td>\n",
       "      <td>1.184928</td>\n",
       "      <td>0.888077</td>\n",
       "      <td>0.887558</td>\n",
       "      <td>1.081180</td>\n",
       "    </tr>\n",
       "    <tr>\n",
       "      <th>24</th>\n",
       "      <td>25.0</td>\n",
       "      <td>0.639932</td>\n",
       "      <td>0.619048</td>\n",
       "      <td>0.653729</td>\n",
       "      <td>0.806340</td>\n",
       "    </tr>\n",
       "    <tr>\n",
       "      <th>25</th>\n",
       "      <td>26.0</td>\n",
       "      <td>0.998082</td>\n",
       "      <td>0.840440</td>\n",
       "      <td>1.009493</td>\n",
       "      <td>0.970301</td>\n",
       "    </tr>\n",
       "    <tr>\n",
       "      <th>26</th>\n",
       "      <td>27.0</td>\n",
       "      <td>0.939444</td>\n",
       "      <td>1.120620</td>\n",
       "      <td>1.167638</td>\n",
       "      <td>1.119413</td>\n",
       "    </tr>\n",
       "    <tr>\n",
       "      <th>27</th>\n",
       "      <td>28.0</td>\n",
       "      <td>0.684482</td>\n",
       "      <td>0.719187</td>\n",
       "      <td>0.841747</td>\n",
       "      <td>0.790603</td>\n",
       "    </tr>\n",
       "    <tr>\n",
       "      <th>28</th>\n",
       "      <td>30.0</td>\n",
       "      <td>1.280711</td>\n",
       "      <td>0.573105</td>\n",
       "      <td>0.705713</td>\n",
       "      <td>1.511796</td>\n",
       "    </tr>\n",
       "    <tr>\n",
       "      <th>29</th>\n",
       "      <td>31.0</td>\n",
       "      <td>0.787826</td>\n",
       "      <td>1.155080</td>\n",
       "      <td>1.063040</td>\n",
       "      <td>0.888770</td>\n",
       "    </tr>\n",
       "    <tr>\n",
       "      <th>...</th>\n",
       "      <td>...</td>\n",
       "      <td>...</td>\n",
       "      <td>...</td>\n",
       "      <td>...</td>\n",
       "      <td>...</td>\n",
       "    </tr>\n",
       "    <tr>\n",
       "      <th>148</th>\n",
       "      <td>153.0</td>\n",
       "      <td>0.857438</td>\n",
       "      <td>0.827394</td>\n",
       "      <td>1.079962</td>\n",
       "      <td>2.124575</td>\n",
       "    </tr>\n",
       "    <tr>\n",
       "      <th>149</th>\n",
       "      <td>154.0</td>\n",
       "      <td>0.791625</td>\n",
       "      <td>1.301284</td>\n",
       "      <td>1.140828</td>\n",
       "      <td>0.847555</td>\n",
       "    </tr>\n",
       "    <tr>\n",
       "      <th>150</th>\n",
       "      <td>155.0</td>\n",
       "      <td>1.173222</td>\n",
       "      <td>0.534527</td>\n",
       "      <td>0.562801</td>\n",
       "      <td>0.495916</td>\n",
       "    </tr>\n",
       "    <tr>\n",
       "      <th>151</th>\n",
       "      <td>156.0</td>\n",
       "      <td>1.200277</td>\n",
       "      <td>1.365430</td>\n",
       "      <td>1.376566</td>\n",
       "      <td>1.024587</td>\n",
       "    </tr>\n",
       "    <tr>\n",
       "      <th>152</th>\n",
       "      <td>157.0</td>\n",
       "      <td>2.452349</td>\n",
       "      <td>0.873498</td>\n",
       "      <td>1.332908</td>\n",
       "      <td>1.141833</td>\n",
       "    </tr>\n",
       "    <tr>\n",
       "      <th>153</th>\n",
       "      <td>158.0</td>\n",
       "      <td>1.696595</td>\n",
       "      <td>0.500542</td>\n",
       "      <td>1.176437</td>\n",
       "      <td>1.302921</td>\n",
       "    </tr>\n",
       "    <tr>\n",
       "      <th>154</th>\n",
       "      <td>159.0</td>\n",
       "      <td>1.266962</td>\n",
       "      <td>0.816880</td>\n",
       "      <td>1.114132</td>\n",
       "      <td>0.941185</td>\n",
       "    </tr>\n",
       "    <tr>\n",
       "      <th>155</th>\n",
       "      <td>160.0</td>\n",
       "      <td>3.330878</td>\n",
       "      <td>0.733601</td>\n",
       "      <td>2.043401</td>\n",
       "      <td>1.350051</td>\n",
       "    </tr>\n",
       "    <tr>\n",
       "      <th>156</th>\n",
       "      <td>161.0</td>\n",
       "      <td>0.574026</td>\n",
       "      <td>0.612323</td>\n",
       "      <td>0.506069</td>\n",
       "      <td>0.616457</td>\n",
       "    </tr>\n",
       "    <tr>\n",
       "      <th>157</th>\n",
       "      <td>162.0</td>\n",
       "      <td>1.217906</td>\n",
       "      <td>0.338567</td>\n",
       "      <td>0.818535</td>\n",
       "      <td>0.520483</td>\n",
       "    </tr>\n",
       "    <tr>\n",
       "      <th>158</th>\n",
       "      <td>163.0</td>\n",
       "      <td>1.707598</td>\n",
       "      <td>1.071317</td>\n",
       "      <td>3.512519</td>\n",
       "      <td>2.568104</td>\n",
       "    </tr>\n",
       "    <tr>\n",
       "      <th>159</th>\n",
       "      <td>164.0</td>\n",
       "      <td>1.266431</td>\n",
       "      <td>0.521036</td>\n",
       "      <td>0.933660</td>\n",
       "      <td>0.972531</td>\n",
       "    </tr>\n",
       "    <tr>\n",
       "      <th>160</th>\n",
       "      <td>165.0</td>\n",
       "      <td>1.652324</td>\n",
       "      <td>0.902772</td>\n",
       "      <td>0.867742</td>\n",
       "      <td>0.917043</td>\n",
       "    </tr>\n",
       "    <tr>\n",
       "      <th>161</th>\n",
       "      <td>166.0</td>\n",
       "      <td>0.926286</td>\n",
       "      <td>0.737694</td>\n",
       "      <td>0.899008</td>\n",
       "      <td>0.899088</td>\n",
       "    </tr>\n",
       "    <tr>\n",
       "      <th>162</th>\n",
       "      <td>167.0</td>\n",
       "      <td>1.606477</td>\n",
       "      <td>0.648743</td>\n",
       "      <td>0.869818</td>\n",
       "      <td>1.031117</td>\n",
       "    </tr>\n",
       "    <tr>\n",
       "      <th>163</th>\n",
       "      <td>168.0</td>\n",
       "      <td>1.571261</td>\n",
       "      <td>0.804509</td>\n",
       "      <td>1.016907</td>\n",
       "      <td>1.167993</td>\n",
       "    </tr>\n",
       "    <tr>\n",
       "      <th>164</th>\n",
       "      <td>169.0</td>\n",
       "      <td>0.702233</td>\n",
       "      <td>0.823509</td>\n",
       "      <td>1.064381</td>\n",
       "      <td>1.083979</td>\n",
       "    </tr>\n",
       "    <tr>\n",
       "      <th>165</th>\n",
       "      <td>170.0</td>\n",
       "      <td>0.802292</td>\n",
       "      <td>1.546095</td>\n",
       "      <td>0.783819</td>\n",
       "      <td>0.868183</td>\n",
       "    </tr>\n",
       "    <tr>\n",
       "      <th>166</th>\n",
       "      <td>171.0</td>\n",
       "      <td>2.165086</td>\n",
       "      <td>0.929480</td>\n",
       "      <td>0.617544</td>\n",
       "      <td>0.653835</td>\n",
       "    </tr>\n",
       "    <tr>\n",
       "      <th>167</th>\n",
       "      <td>172.0</td>\n",
       "      <td>0.815482</td>\n",
       "      <td>0.719032</td>\n",
       "      <td>1.063838</td>\n",
       "      <td>0.772369</td>\n",
       "    </tr>\n",
       "    <tr>\n",
       "      <th>168</th>\n",
       "      <td>173.0</td>\n",
       "      <td>1.037450</td>\n",
       "      <td>0.922199</td>\n",
       "      <td>0.837424</td>\n",
       "      <td>1.051880</td>\n",
       "    </tr>\n",
       "    <tr>\n",
       "      <th>169</th>\n",
       "      <td>174.0</td>\n",
       "      <td>1.611233</td>\n",
       "      <td>0.687500</td>\n",
       "      <td>0.880984</td>\n",
       "      <td>0.949662</td>\n",
       "    </tr>\n",
       "    <tr>\n",
       "      <th>170</th>\n",
       "      <td>175.0</td>\n",
       "      <td>2.768909</td>\n",
       "      <td>0.703358</td>\n",
       "      <td>0.917576</td>\n",
       "      <td>1.114610</td>\n",
       "    </tr>\n",
       "    <tr>\n",
       "      <th>171</th>\n",
       "      <td>176.0</td>\n",
       "      <td>0.661991</td>\n",
       "      <td>0.528346</td>\n",
       "      <td>0.624398</td>\n",
       "      <td>0.669748</td>\n",
       "    </tr>\n",
       "    <tr>\n",
       "      <th>172</th>\n",
       "      <td>177.0</td>\n",
       "      <td>1.281288</td>\n",
       "      <td>0.417487</td>\n",
       "      <td>0.936450</td>\n",
       "      <td>0.820008</td>\n",
       "    </tr>\n",
       "    <tr>\n",
       "      <th>173</th>\n",
       "      <td>178.0</td>\n",
       "      <td>2.796397</td>\n",
       "      <td>0.990717</td>\n",
       "      <td>1.170423</td>\n",
       "      <td>0.969706</td>\n",
       "    </tr>\n",
       "    <tr>\n",
       "      <th>174</th>\n",
       "      <td>179.0</td>\n",
       "      <td>1.291603</td>\n",
       "      <td>0.975966</td>\n",
       "      <td>1.342730</td>\n",
       "      <td>1.356688</td>\n",
       "    </tr>\n",
       "    <tr>\n",
       "      <th>175</th>\n",
       "      <td>180.0</td>\n",
       "      <td>1.079612</td>\n",
       "      <td>0.817555</td>\n",
       "      <td>0.946398</td>\n",
       "      <td>0.872121</td>\n",
       "    </tr>\n",
       "    <tr>\n",
       "      <th>176</th>\n",
       "      <td>181.0</td>\n",
       "      <td>2.639331</td>\n",
       "      <td>0.844903</td>\n",
       "      <td>0.915587</td>\n",
       "      <td>0.949808</td>\n",
       "    </tr>\n",
       "    <tr>\n",
       "      <th>177</th>\n",
       "      <td>182.0</td>\n",
       "      <td>1.157846</td>\n",
       "      <td>1.003852</td>\n",
       "      <td>1.035468</td>\n",
       "      <td>1.037620</td>\n",
       "    </tr>\n",
       "  </tbody>\n",
       "</table>\n",
       "<p>178 rows × 5 columns</p>\n",
       "</div>"
      ],
      "text/plain": [
       "     camera_id   rmse_f1   rmse_f2   rmse_f3   rmse_f4\n",
       "0          1.0  1.806932  0.806775  0.990395  0.897335\n",
       "1          2.0  0.632751  0.854399  1.166955  1.081298\n",
       "2          3.0  5.073446  0.965734  1.472083  1.129966\n",
       "3          4.0  1.545618  0.926186  0.780121  0.913740\n",
       "4          5.0  0.412304  0.406121  0.515312  0.566010\n",
       "5          6.0  0.805937  0.824590  0.892155  0.945944\n",
       "6          7.0  0.850959  1.002399  1.170799  1.101635\n",
       "7          8.0  1.840012  0.815063  1.046123  1.233248\n",
       "8          9.0  0.501829  0.845964  1.022375  1.053157\n",
       "9         10.0  1.428021  1.161817  0.869813  0.880010\n",
       "10        11.0  1.402447  0.713603  0.896556  0.843535\n",
       "11        12.0  1.252946  0.739343  1.222683  1.050847\n",
       "12        13.0  0.936770  0.825138  0.895827  0.915419\n",
       "13        14.0  3.229178  0.592577  0.839478  1.072090\n",
       "14        15.0  0.949697  1.151743  1.122324  0.980235\n",
       "15        16.0  1.553539  1.094242  1.362572  1.379932\n",
       "16        17.0  0.782557  0.877781  1.043466  0.960073\n",
       "17        18.0  0.761962  0.948932  1.044892  1.056697\n",
       "18        19.0  1.424114  2.117793  1.202742  2.361348\n",
       "19        20.0  0.705682  0.642344  0.851216  0.736125\n",
       "20        21.0  0.663719  0.759338  0.833382  0.807560\n",
       "21        22.0  1.060102  1.029566  1.091948  0.935476\n",
       "22        23.0  0.882879  0.739327  0.879388  0.953191\n",
       "23        24.0  1.184928  0.888077  0.887558  1.081180\n",
       "24        25.0  0.639932  0.619048  0.653729  0.806340\n",
       "25        26.0  0.998082  0.840440  1.009493  0.970301\n",
       "26        27.0  0.939444  1.120620  1.167638  1.119413\n",
       "27        28.0  0.684482  0.719187  0.841747  0.790603\n",
       "28        30.0  1.280711  0.573105  0.705713  1.511796\n",
       "29        31.0  0.787826  1.155080  1.063040  0.888770\n",
       "..         ...       ...       ...       ...       ...\n",
       "148      153.0  0.857438  0.827394  1.079962  2.124575\n",
       "149      154.0  0.791625  1.301284  1.140828  0.847555\n",
       "150      155.0  1.173222  0.534527  0.562801  0.495916\n",
       "151      156.0  1.200277  1.365430  1.376566  1.024587\n",
       "152      157.0  2.452349  0.873498  1.332908  1.141833\n",
       "153      158.0  1.696595  0.500542  1.176437  1.302921\n",
       "154      159.0  1.266962  0.816880  1.114132  0.941185\n",
       "155      160.0  3.330878  0.733601  2.043401  1.350051\n",
       "156      161.0  0.574026  0.612323  0.506069  0.616457\n",
       "157      162.0  1.217906  0.338567  0.818535  0.520483\n",
       "158      163.0  1.707598  1.071317  3.512519  2.568104\n",
       "159      164.0  1.266431  0.521036  0.933660  0.972531\n",
       "160      165.0  1.652324  0.902772  0.867742  0.917043\n",
       "161      166.0  0.926286  0.737694  0.899008  0.899088\n",
       "162      167.0  1.606477  0.648743  0.869818  1.031117\n",
       "163      168.0  1.571261  0.804509  1.016907  1.167993\n",
       "164      169.0  0.702233  0.823509  1.064381  1.083979\n",
       "165      170.0  0.802292  1.546095  0.783819  0.868183\n",
       "166      171.0  2.165086  0.929480  0.617544  0.653835\n",
       "167      172.0  0.815482  0.719032  1.063838  0.772369\n",
       "168      173.0  1.037450  0.922199  0.837424  1.051880\n",
       "169      174.0  1.611233  0.687500  0.880984  0.949662\n",
       "170      175.0  2.768909  0.703358  0.917576  1.114610\n",
       "171      176.0  0.661991  0.528346  0.624398  0.669748\n",
       "172      177.0  1.281288  0.417487  0.936450  0.820008\n",
       "173      178.0  2.796397  0.990717  1.170423  0.969706\n",
       "174      179.0  1.291603  0.975966  1.342730  1.356688\n",
       "175      180.0  1.079612  0.817555  0.946398  0.872121\n",
       "176      181.0  2.639331  0.844903  0.915587  0.949808\n",
       "177      182.0  1.157846  1.003852  1.035468  1.037620\n",
       "\n",
       "[178 rows x 5 columns]"
      ]
     },
     "execution_count": 69,
     "metadata": {},
     "output_type": "execute_result"
    }
   ],
   "source": [
    "rmse_per_cam_per_halfhour_df"
   ]
  },
  {
   "cell_type": "code",
   "execution_count": 75,
   "metadata": {},
   "outputs": [
    {
     "ename": "ValueError",
     "evalue": "DataFrame constructor not properly called!",
     "output_type": "error",
     "traceback": [
      "\u001b[0;31m---------------------------------------------------------------------------\u001b[0m",
      "\u001b[0;31mValueError\u001b[0m                                Traceback (most recent call last)",
      "\u001b[0;32m<ipython-input-75-14e047c119b1>\u001b[0m in \u001b[0;36m<module>\u001b[0;34m\u001b[0m\n\u001b[0;32m----> 1\u001b[0;31m \u001b[0mpd\u001b[0m\u001b[0;34m.\u001b[0m\u001b[0mDataFrame\u001b[0m\u001b[0;34m(\u001b[0m\u001b[0mdata\u001b[0m\u001b[0;34m=\u001b[0m\u001b[0mmodels_params\u001b[0m\u001b[0;34m.\u001b[0m\u001b[0mvalues\u001b[0m\u001b[0;34m(\u001b[0m\u001b[0;34m)\u001b[0m\u001b[0;34m)\u001b[0m\u001b[0;34m\u001b[0m\u001b[0;34m\u001b[0m\u001b[0m\n\u001b[0m",
      "\u001b[0;32m~/miniconda3/envs/spatiotemporal/lib/python3.6/site-packages/pandas/core/frame.py\u001b[0m in \u001b[0;36m__init__\u001b[0;34m(self, data, index, columns, dtype, copy)\u001b[0m\n\u001b[1;32m    420\u001b[0m                                          dtype=values.dtype, copy=False)\n\u001b[1;32m    421\u001b[0m             \u001b[0;32melse\u001b[0m\u001b[0;34m:\u001b[0m\u001b[0;34m\u001b[0m\u001b[0;34m\u001b[0m\u001b[0m\n\u001b[0;32m--> 422\u001b[0;31m                 \u001b[0;32mraise\u001b[0m \u001b[0mValueError\u001b[0m\u001b[0;34m(\u001b[0m\u001b[0;34m'DataFrame constructor not properly called!'\u001b[0m\u001b[0;34m)\u001b[0m\u001b[0;34m\u001b[0m\u001b[0;34m\u001b[0m\u001b[0m\n\u001b[0m\u001b[1;32m    423\u001b[0m \u001b[0;34m\u001b[0m\u001b[0m\n\u001b[1;32m    424\u001b[0m         \u001b[0mNDFrame\u001b[0m\u001b[0;34m.\u001b[0m\u001b[0m__init__\u001b[0m\u001b[0;34m(\u001b[0m\u001b[0mself\u001b[0m\u001b[0;34m,\u001b[0m \u001b[0mmgr\u001b[0m\u001b[0;34m,\u001b[0m \u001b[0mfastpath\u001b[0m\u001b[0;34m=\u001b[0m\u001b[0;32mTrue\u001b[0m\u001b[0;34m)\u001b[0m\u001b[0;34m\u001b[0m\u001b[0;34m\u001b[0m\u001b[0m\n",
      "\u001b[0;31mValueError\u001b[0m: DataFrame constructor not properly called!"
     ]
    }
   ],
   "source": [
    "pd.DataFrame(data=models_params.values())"
   ]
  },
  {
   "cell_type": "code",
   "execution_count": 81,
   "metadata": {},
   "outputs": [],
   "source": [
    "with open(\"models_params.pickle\",'wb') as f:\n",
    "    pickle.dump(models_params,f)"
   ]
  },
  {
   "cell_type": "code",
   "execution_count": null,
   "metadata": {},
   "outputs": [],
   "source": [
    "pickle.dump(rmses_per_camera,open(\"rmse_per_camera_autoarima.pickle\",'wb'))"
   ]
  },
  {
   "cell_type": "code",
   "execution_count": 8,
   "metadata": {},
   "outputs": [
    {
     "data": {
      "text/plain": [
       "{1: 1.054924781313345}"
      ]
     },
     "execution_count": 8,
     "metadata": {},
     "output_type": "execute_result"
    }
   ],
   "source": [
    "pickle.load(open(\"rmse_per_camera_autoarima.pickle\",'rb'))"
   ]
  },
  {
   "cell_type": "code",
   "execution_count": null,
   "metadata": {},
   "outputs": [],
   "source": [
    "plt.plot(ts)"
   ]
  },
  {
   "cell_type": "code",
   "execution_count": null,
   "metadata": {},
   "outputs": [],
   "source": [
    "plt.plot(ts-fc)"
   ]
  },
  {
   "cell_type": "code",
   "execution_count": null,
   "metadata": {},
   "outputs": [],
   "source": []
  }
 ],
 "metadata": {
  "kernelspec": {
   "display_name": "Python 3",
   "language": "python",
   "name": "python3"
  },
  "language_info": {
   "codemirror_mode": {
    "name": "ipython",
    "version": 3
   },
   "file_extension": ".py",
   "mimetype": "text/x-python",
   "name": "python",
   "nbconvert_exporter": "python",
   "pygments_lexer": "ipython3",
   "version": "3.7.3"
  }
 },
 "nbformat": 4,
 "nbformat_minor": 2
}
